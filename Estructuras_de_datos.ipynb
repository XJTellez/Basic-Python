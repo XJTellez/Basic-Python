{
  "cells": [
    {
      "cell_type": "markdown",
      "metadata": {
        "id": "view-in-github",
        "colab_type": "text"
      },
      "source": [
        "<a href=\"https://colab.research.google.com/github/XJTellez/Basic-Python/blob/main/Estructuras_de_datos.ipynb\" target=\"_parent\"><img src=\"https://colab.research.google.com/assets/colab-badge.svg\" alt=\"Open In Colab\"/></a>"
      ]
    },
    {
      "cell_type": "markdown",
      "id": "attended-emission",
      "metadata": {
        "id": "attended-emission"
      },
      "source": [
        "Teoría previa:  \n",
        "- palabras reservadas\n",
        "- Funciones built-in\n",
        "    - range\n",
        "    - sum\n",
        "    - min\n",
        "    - max\n",
        "    - sorted\n",
        "    - any\n",
        "    - all"
      ]
    },
    {
      "cell_type": "markdown",
      "id": "pharmaceutical-seminar",
      "metadata": {
        "id": "pharmaceutical-seminar"
      },
      "source": [
        "# Referencia rápida"
      ]
    },
    {
      "cell_type": "markdown",
      "id": "responsible-encyclopedia",
      "metadata": {
        "id": "responsible-encyclopedia"
      },
      "source": [
        "**Objetos Importantes**\n",
        "- Strings\n",
        "- Listas\n",
        "- Diccionarios\n",
        "- Sets  "
      ]
    },
    {
      "cell_type": "markdown",
      "id": "extraordinary-twelve",
      "metadata": {
        "id": "extraordinary-twelve"
      },
      "source": [
        "# Estructuras de datos\n",
        "1. Listas\n",
        "2. Tuplas\n",
        "3. Sets\n",
        "4. Diccionarios"
      ]
    },
    {
      "cell_type": "markdown",
      "id": "certain-grace",
      "metadata": {
        "id": "certain-grace"
      },
      "source": [
        "# 1. Listas"
      ]
    },
    {
      "cell_type": "markdown",
      "id": "limiting-carry",
      "metadata": {
        "id": "limiting-carry"
      },
      "source": [
        "El caballo de trabajo de todo pitonista!"
      ]
    },
    {
      "cell_type": "markdown",
      "id": "rational-elimination",
      "metadata": {
        "id": "rational-elimination"
      },
      "source": [
        "Se define una lista vacía con brakets"
      ]
    },
    {
      "cell_type": "code",
      "execution_count": null,
      "id": "defensive-consensus",
      "metadata": {
        "id": "defensive-consensus"
      },
      "outputs": [],
      "source": [
        "# AGUAS!! Si usamos list en vez de lista nos metemos en una bronca!\n",
        "lista = []"
      ]
    },
    {
      "cell_type": "code",
      "execution_count": null,
      "id": "after-carbon",
      "metadata": {
        "id": "after-carbon",
        "outputId": "2680e9a4-e955-4240-d969-34c10944731a"
      },
      "outputs": [
        {
          "data": {
            "text/plain": [
              "list"
            ]
          },
          "execution_count": 2,
          "metadata": {},
          "output_type": "execute_result"
        }
      ],
      "source": [
        "type(lista)"
      ]
    },
    {
      "cell_type": "markdown",
      "id": "alike-crisis",
      "metadata": {
        "id": "alike-crisis"
      },
      "source": [
        "Se puede poblar agregando elementos separados por una coma"
      ]
    },
    {
      "cell_type": "code",
      "execution_count": null,
      "id": "middle-words",
      "metadata": {
        "id": "middle-words",
        "outputId": "9a9fed18-4dc3-47e4-9de4-a456ec87ae7b"
      },
      "outputs": [
        {
          "data": {
            "text/plain": [
              "[1, 2, 3]"
            ]
          },
          "execution_count": 3,
          "metadata": {},
          "output_type": "execute_result"
        }
      ],
      "source": [
        "lista = [1,2,3]\n",
        "lista"
      ]
    },
    {
      "cell_type": "markdown",
      "id": "expired-retreat",
      "metadata": {
        "id": "expired-retreat"
      },
      "source": [
        "Podemos tener elementos mixtos en una lista"
      ]
    },
    {
      "cell_type": "code",
      "execution_count": null,
      "id": "afraid-chile",
      "metadata": {
        "id": "afraid-chile",
        "outputId": "1168d3dd-b5a9-4cbe-f944-e5e0ca8d7451"
      },
      "outputs": [
        {
          "data": {
            "text/plain": [
              "[1, 2, 3.14]"
            ]
          },
          "execution_count": 4,
          "metadata": {},
          "output_type": "execute_result"
        }
      ],
      "source": [
        "lista = [1,2,3.14]\n",
        "lista"
      ]
    },
    {
      "cell_type": "code",
      "execution_count": null,
      "id": "proprietary-vacuum",
      "metadata": {
        "id": "proprietary-vacuum",
        "outputId": "f6973aeb-28c5-4b1c-ca8a-836189eb259d"
      },
      "outputs": [
        {
          "data": {
            "text/plain": [
              "[1, '2', 3.14, True]"
            ]
          },
          "execution_count": 5,
          "metadata": {},
          "output_type": "execute_result"
        }
      ],
      "source": [
        "lista = [1,'2',3.14,True]\n",
        "lista"
      ]
    },
    {
      "cell_type": "markdown",
      "id": "hawaiian-princeton",
      "metadata": {
        "id": "hawaiian-princeton"
      },
      "source": [
        "**Slicing**  \n",
        "Igual como los strings podemos seleccionar elementos de la siguiente manera:"
      ]
    },
    {
      "cell_type": "code",
      "execution_count": null,
      "id": "matched-quarterly",
      "metadata": {
        "id": "matched-quarterly"
      },
      "outputs": [],
      "source": [
        "x = ['Empezamos con un str', 1.732, 2.71, 3.14]"
      ]
    },
    {
      "cell_type": "code",
      "execution_count": null,
      "id": "elect-schema",
      "metadata": {
        "id": "elect-schema",
        "outputId": "c4adf196-fa4f-4f2f-ecce-a7259f99750b"
      },
      "outputs": [
        {
          "data": {
            "text/plain": [
              "'Empezamos con un str'"
            ]
          },
          "execution_count": 7,
          "metadata": {},
          "output_type": "execute_result"
        }
      ],
      "source": [
        "# Un punto en particular\n",
        "x[0]"
      ]
    },
    {
      "cell_type": "code",
      "execution_count": null,
      "id": "metallic-reason",
      "metadata": {
        "id": "metallic-reason",
        "outputId": "20d918ba-90e4-4d45-f36a-95876fdee56d"
      },
      "outputs": [
        {
          "data": {
            "text/plain": [
              "[1.732, 2.71]"
            ]
          },
          "execution_count": 8,
          "metadata": {},
          "output_type": "execute_result"
        }
      ],
      "source": [
        "# Entre dos posiciones\n",
        "x[1:3]"
      ]
    },
    {
      "cell_type": "code",
      "execution_count": null,
      "id": "removed-yugoslavia",
      "metadata": {
        "id": "removed-yugoslavia",
        "outputId": "90e77ea4-1cac-42f0-efab-a576343dc784"
      },
      "outputs": [
        {
          "data": {
            "text/plain": [
              "['Empezamos con un str', 1.732]"
            ]
          },
          "execution_count": 9,
          "metadata": {},
          "output_type": "execute_result"
        }
      ],
      "source": [
        "# Del inicio a una posición\n",
        "x[:2]"
      ]
    },
    {
      "cell_type": "code",
      "execution_count": null,
      "id": "adaptive-frontier",
      "metadata": {
        "id": "adaptive-frontier",
        "outputId": "1f824931-ff7b-4526-eaad-ef5e86ccf2ba"
      },
      "outputs": [
        {
          "data": {
            "text/plain": [
              "[2.71, 3.14]"
            ]
          },
          "execution_count": 10,
          "metadata": {},
          "output_type": "execute_result"
        }
      ],
      "source": [
        "# De una posición hasta el fin\n",
        "x[2:]"
      ]
    },
    {
      "cell_type": "code",
      "execution_count": null,
      "id": "arabic-cargo",
      "metadata": {
        "scrolled": true,
        "id": "arabic-cargo",
        "outputId": "ece8c71e-16bf-4bc6-ce72-400125e989cd"
      },
      "outputs": [
        {
          "data": {
            "text/plain": [
              "3.14"
            ]
          },
          "execution_count": 11,
          "metadata": {},
          "output_type": "execute_result"
        }
      ],
      "source": [
        "# De atrás para adelante\n",
        "x[-1]"
      ]
    },
    {
      "cell_type": "markdown",
      "id": "cognitive-district",
      "metadata": {
        "id": "cognitive-district"
      },
      "source": [
        "**Iteradores**"
      ]
    },
    {
      "cell_type": "code",
      "execution_count": null,
      "id": "blond-controversy",
      "metadata": {
        "id": "blond-controversy"
      },
      "outputs": [],
      "source": [
        "ejemplo = [594, 903, 595, 489, 893]"
      ]
    },
    {
      "cell_type": "code",
      "execution_count": null,
      "id": "isolated-maine",
      "metadata": {
        "id": "isolated-maine",
        "outputId": "429a042f-5617-4994-b5e5-dc13666c680a"
      },
      "outputs": [
        {
          "data": {
            "text/plain": [
              "594"
            ]
          },
          "execution_count": 17,
          "metadata": {},
          "output_type": "execute_result"
        }
      ],
      "source": [
        "ejemplo_iter = iter(ejemplo)\n",
        "next(ejemplo_iter)"
      ]
    },
    {
      "cell_type": "code",
      "execution_count": null,
      "id": "stable-consciousness",
      "metadata": {
        "id": "stable-consciousness",
        "outputId": "ae5a93e8-ef83-403a-c13a-8e1457dc5695"
      },
      "outputs": [
        {
          "data": {
            "text/plain": [
              "4"
            ]
          },
          "execution_count": 18,
          "metadata": {},
          "output_type": "execute_result"
        }
      ],
      "source": [
        "len(x)"
      ]
    },
    {
      "cell_type": "code",
      "execution_count": null,
      "id": "joined-elite",
      "metadata": {
        "id": "joined-elite"
      },
      "outputs": [],
      "source": [
        "ejemplo = [594, 595, 489, 903, 489]"
      ]
    },
    {
      "cell_type": "code",
      "execution_count": null,
      "id": "legal-pendant",
      "metadata": {
        "id": "legal-pendant",
        "outputId": "f26546f1-756d-4efd-ca72-25455733d73d"
      },
      "outputs": [
        {
          "data": {
            "text/plain": [
              "[489, 489, 594, 595, 903]"
            ]
          },
          "execution_count": 20,
          "metadata": {},
          "output_type": "execute_result"
        }
      ],
      "source": [
        "# Funciona mientras el tipo sea el mismo\n",
        "sorted(ejemplo)"
      ]
    },
    {
      "cell_type": "markdown",
      "id": "knowing-camel",
      "metadata": {
        "id": "knowing-camel"
      },
      "source": [
        "**Operaciones**\n",
        "- Suma +\n",
        "    - Funciona como una concatenación"
      ]
    },
    {
      "cell_type": "code",
      "execution_count": null,
      "id": "joined-cassette",
      "metadata": {
        "id": "joined-cassette",
        "outputId": "10842817-e330-4f59-a68c-dd43c267025b"
      },
      "outputs": [
        {
          "data": {
            "text/plain": [
              "[1, 2, 3, 4, 5, 6]"
            ]
          },
          "execution_count": 21,
          "metadata": {},
          "output_type": "execute_result"
        }
      ],
      "source": [
        "lista1 = [1,2,3]\n",
        "lista2 = [4,5,6]\n",
        "lista1 + lista2"
      ]
    },
    {
      "cell_type": "code",
      "execution_count": null,
      "id": "inner-works",
      "metadata": {
        "id": "inner-works",
        "outputId": "e6d272ab-fe73-4ced-b8a4-8c89f5dd94b3"
      },
      "outputs": [
        {
          "data": {
            "text/plain": [
              "['1', '2', '3', 4, 5, 6]"
            ]
          },
          "execution_count": 22,
          "metadata": {},
          "output_type": "execute_result"
        }
      ],
      "source": [
        "lista1 = ['1','2','3']\n",
        "lista2 = [4,5,6]\n",
        "lista1 + lista2"
      ]
    },
    {
      "cell_type": "markdown",
      "id": "remarkable-pepper",
      "metadata": {
        "id": "remarkable-pepper"
      },
      "source": [
        "**Métodos útiles**\n",
        "- **insert**\n",
        "    - Agrega algo en cualquier punto de una lista.\n",
        "- **append**\n",
        "    - Agrega algo al final de una lista.\n",
        "- **extend**\n",
        "    - Agrega los elementos de un iterable a otro.\n",
        "- **remove**\n",
        "    - Elimina el primer valor que corresponda al parámetro.\n",
        "- **clear**\n",
        "    - Elimina todos los valores en una lista.\n",
        "- **pop**\n",
        "    - Quita un valor en algún punto específico y lo regresa\n",
        "    - Si no quieres que regrese el valor, sólo usa del\n",
        "- **count**\n",
        "    - Cuántos elementos corresponden a un parámetro.\n",
        "- **index**\n",
        "    - En qué posición se encuentra el primer elemento que corresponda con el parámetro.\n",
        "- **copy**\n",
        "    - Crea una copia de la lista.\n",
        "- **sort**\n",
        "    - Ordena la lista.\n",
        "- **reverse**\n",
        "    - Voltea la lista.\n"
      ]
    },
    {
      "cell_type": "markdown",
      "id": "ruled-concord",
      "metadata": {
        "id": "ruled-concord"
      },
      "source": [
        "#### Ejercicios"
      ]
    },
    {
      "cell_type": "markdown",
      "id": "ruled-grounds",
      "metadata": {
        "id": "ruled-grounds"
      },
      "source": [
        "**1.-** Usando métodos, crea una lista C a partir de las listas A y B. Lista C debe de verse de la siguiente manera:  \n",
        "[1,2,3,4,5,6]  \n",
        "\n",
        "Tip: Append, Extend o Insert?"
      ]
    },
    {
      "cell_type": "code",
      "execution_count": null,
      "id": "instant-services",
      "metadata": {
        "id": "instant-services"
      },
      "outputs": [],
      "source": [
        "A = [1,2,3]\n",
        "B = [4,5,6]"
      ]
    },
    {
      "cell_type": "markdown",
      "id": "hungry-cancellation",
      "metadata": {
        "id": "hungry-cancellation"
      },
      "source": [
        "**2.-** De la siguiente lista misteriosa elimina el 6to valor e imprime cuál era."
      ]
    },
    {
      "cell_type": "code",
      "execution_count": null,
      "id": "stuffed-progress",
      "metadata": {
        "id": "stuffed-progress"
      },
      "outputs": [],
      "source": [
        "Z = [1,29,3,4,28,20,19,5,23,32,10]"
      ]
    },
    {
      "cell_type": "code",
      "execution_count": null,
      "id": "french-chicken",
      "metadata": {
        "id": "french-chicken",
        "outputId": "d5866ce9-8dac-49b5-fe51-33f45363007b"
      },
      "outputs": [
        {
          "name": "stdout",
          "output_type": "stream",
          "text": [
            "El quinto valor en esta lista era 20\n"
          ]
        }
      ],
      "source": [
        "print('El quinto valor en esta lista era {}'.format(Z.pop(5)))"
      ]
    },
    {
      "cell_type": "markdown",
      "id": "statutory-brother",
      "metadata": {
        "id": "statutory-brother"
      },
      "source": [
        "**2.1-** Añade el número 11 en la posición 5 y muéstralo."
      ]
    },
    {
      "cell_type": "code",
      "execution_count": null,
      "id": "approximate-lawsuit",
      "metadata": {
        "id": "approximate-lawsuit"
      },
      "outputs": [],
      "source": [
        "Z.insert(5, 11)"
      ]
    },
    {
      "cell_type": "markdown",
      "id": "automatic-ratio",
      "metadata": {
        "id": "automatic-ratio"
      },
      "source": [
        "**2.2-** Averigua a qué corresponden estos números."
      ]
    },
    {
      "cell_type": "markdown",
      "id": "designed-composition",
      "metadata": {
        "id": "designed-composition"
      },
      "source": [
        "Alineación titular de los Tigres."
      ]
    },
    {
      "cell_type": "markdown",
      "id": "incorporated-folder",
      "metadata": {
        "id": "incorporated-folder"
      },
      "source": [
        "---"
      ]
    },
    {
      "cell_type": "markdown",
      "id": "brown-philip",
      "metadata": {
        "id": "brown-philip"
      },
      "source": [
        "**3-** En qué posición de esta lista se encuentra el nombre de Gabriel Ambriz."
      ]
    },
    {
      "cell_type": "code",
      "execution_count": null,
      "id": "union-portal",
      "metadata": {
        "id": "union-portal"
      },
      "outputs": [],
      "source": [
        "X = ['Braund, Mr. Owen Harris',\n",
        " 'Cumings, Mrs. John Bradley (Florence Briggs Thayer)',\n",
        " 'Heikkinen, Miss. Laina',\n",
        " 'Futrelle, Mrs. Jacques Heath (Lily May Peel)',\n",
        " 'Allen, Mr. William Henry',\n",
        " 'Moran, Mr. James',\n",
        " 'McCarthy, Mr. Timothy J',\n",
        " 'Palsson, Master. Gosta Leonard',\n",
        " 'Johnson, Mrs. Oscar W (Elisabeth Vilhelmina Berg)',\n",
        " 'Nasser, Mrs. Nicholas (Adele Achem)',\n",
        " 'Sandstrom, Miss. Marguerite Rut',\n",
        " 'Bonnell, Miss. Elizabeth',\n",
        " 'Saundercock, Mr. William Henry',\n",
        " 'Andersson, Mr. Anders Johan',\n",
        " 'Vestrom, Miss. Hulda Amanda Adolfina',\n",
        " 'Hewlett, Mrs. (Mary D Kingcome) ',\n",
        " 'Rice, Master. Eugene',\n",
        " 'Williams, Mr. Charles Eugene',\n",
        " 'Vander Planke, Mrs. Julius (Emelia Maria Vandemoortele)',\n",
        " 'Masselmani, Mrs. Fatima',\n",
        " 'Fynney, Mr. Joseph J',\n",
        " 'Beesley, Mr. Lawrence',\n",
        " 'McGowan, Miss. Anna \"Annie\"',\n",
        " 'Sloper, Mr. William Thompson',\n",
        " 'Palsson, Miss. Torborg Danira',\n",
        " 'Asplund, Mrs. Carl Oscar (Selma Augusta Emilia Johansson)',\n",
        " 'Emir, Mr. Farred Chehab',\n",
        " 'Fortune, Mr. Charles Alexander',\n",
        " 'Dwyer, Miss. Ellen \"Nellie\"',\n",
        " 'Todoroff, Mr. Lalio',\n",
        " 'Uruchurtu, Don. Manuel E',\n",
        " 'Spencer, Mrs. William Augustus (Marie Eugenie)',\n",
        " 'Glynn, Miss. Mary Agatha',\n",
        " 'Wheadon, Mr. Edward H',\n",
        " 'Meyer, Mr. Edgar Joseph',\n",
        " 'Gabriel Ambriz',\n",
        " 'Holverson, Mr. Alexander Oskar',\n",
        " 'Mamee, Mr. Hanna',\n",
        " 'Cann, Mr. Ernest Charles',\n",
        " 'Vander Planke, Miss. Augusta Maria',\n",
        " 'Nicola-Yarred, Miss. Jamila',\n",
        " 'Ahlin, Mrs. Johan (Johanna Persdotter Larsson)',\n",
        " 'Turpin, Mrs. William John Robert (Dorothy Ann Wonnacott)',\n",
        " 'Kraeff, Mr. Theodor',\n",
        " 'Laroche, Miss. Simonne Marie Anne Andree',\n",
        " 'Devaney, Miss. Margaret Delia',\n",
        " 'Rogers, Mr. William John',\n",
        " 'Lennon, Mr. Denis',\n",
        " \"O'Driscoll, Miss. Bridget\",\n",
        " 'Samaan, Mr. Youssef',\n",
        " 'Arnold-Franchi, Mrs. Josef (Josefine Franchi)',\n",
        " 'Panula, Master. Juha Niilo',\n",
        " 'Nosworthy, Mr. Richard Cater',\n",
        " 'Harper, Mrs. Henry Sleeper (Myna Haxtun)',\n",
        " 'Faunthorpe, Mrs. Lizzie (Elizabeth Anne Wilkinson)',\n",
        " 'Ostby, Mr. Engelhart Cornelius',\n",
        " 'Woolner, Mr. Hugh']"
      ]
    },
    {
      "cell_type": "markdown",
      "id": "limiting-treat",
      "metadata": {
        "id": "limiting-treat"
      },
      "source": [
        "**3.1-** Asegúrate de que sea el único Gabriel Ambriz en la lista."
      ]
    },
    {
      "cell_type": "code",
      "execution_count": null,
      "id": "administrative-resort",
      "metadata": {
        "id": "administrative-resort",
        "outputId": "4b5d76cd-55ad-411b-fd71-b90e4406db3a"
      },
      "outputs": [
        {
          "data": {
            "text/plain": [
              "1"
            ]
          },
          "execution_count": 30,
          "metadata": {},
          "output_type": "execute_result"
        }
      ],
      "source": [
        "X.count('Gabriel Ambriz')"
      ]
    },
    {
      "cell_type": "markdown",
      "id": "automated-variety",
      "metadata": {
        "id": "automated-variety"
      },
      "source": [
        "**3.2-** Quita a Gabriel Ambriz de la lista."
      ]
    },
    {
      "cell_type": "code",
      "execution_count": null,
      "id": "greatest-heath",
      "metadata": {
        "id": "greatest-heath"
      },
      "outputs": [],
      "source": [
        "X.remove('Gabriel Ambriz')"
      ]
    },
    {
      "cell_type": "code",
      "execution_count": null,
      "id": "according-reality",
      "metadata": {
        "id": "according-reality",
        "outputId": "760762fd-8170-4d3f-859c-a9eacaebb45e"
      },
      "outputs": [
        {
          "data": {
            "text/plain": [
              "0"
            ]
          },
          "execution_count": 33,
          "metadata": {},
          "output_type": "execute_result"
        }
      ],
      "source": [
        "# Confirmamos que se retiró de la lista\n",
        "X.count('Gabriel Ambriz')"
      ]
    },
    {
      "cell_type": "markdown",
      "id": "departmental-screw",
      "metadata": {
        "id": "departmental-screw"
      },
      "source": [
        "**3.3-** Añade 'Alejandro Balderas' en la posición donde se encontraba Gabriel Ambriz."
      ]
    },
    {
      "cell_type": "code",
      "execution_count": null,
      "id": "unnecessary-crisis",
      "metadata": {
        "id": "unnecessary-crisis"
      },
      "outputs": [],
      "source": [
        "X.insert(35, 'Alejandro Balderas')"
      ]
    },
    {
      "cell_type": "markdown",
      "id": "backed-supplier",
      "metadata": {
        "id": "backed-supplier"
      },
      "source": [
        "**3.4-** Verifica la posición de Alejandro Balderas."
      ]
    },
    {
      "cell_type": "code",
      "execution_count": null,
      "id": "constant-skating",
      "metadata": {
        "id": "constant-skating",
        "outputId": "cc9355d1-adac-4086-efcb-59b598a081d7"
      },
      "outputs": [
        {
          "data": {
            "text/plain": [
              "35"
            ]
          },
          "execution_count": 35,
          "metadata": {},
          "output_type": "execute_result"
        }
      ],
      "source": [
        "X.index('Alejandro Balderas')"
      ]
    },
    {
      "cell_type": "markdown",
      "id": "coordinate-jonathan",
      "metadata": {
        "id": "coordinate-jonathan"
      },
      "source": [
        "**3.5-** Imprime los últimos tres elementos"
      ]
    },
    {
      "cell_type": "code",
      "execution_count": null,
      "id": "steady-budget",
      "metadata": {
        "id": "steady-budget",
        "outputId": "addf3530-57ee-4f02-a4e4-3ec9a78259d8"
      },
      "outputs": [
        {
          "data": {
            "text/plain": [
              "['Faunthorpe, Mrs. Lizzie (Elizabeth Anne Wilkinson)',\n",
              " 'Ostby, Mr. Engelhart Cornelius',\n",
              " 'Woolner, Mr. Hugh']"
            ]
          },
          "execution_count": 39,
          "metadata": {},
          "output_type": "execute_result"
        }
      ],
      "source": [
        "X[-3:]"
      ]
    },
    {
      "cell_type": "markdown",
      "id": "incredible-princess",
      "metadata": {
        "id": "incredible-princess"
      },
      "source": [
        "**3.6-** Cambia el primer elemento por tu número favorito y visualiza la lista"
      ]
    },
    {
      "cell_type": "markdown",
      "id": "structured-breach",
      "metadata": {
        "id": "structured-breach"
      },
      "source": [
        "**4-** Determina si hay un falso en esta lista."
      ]
    },
    {
      "cell_type": "code",
      "execution_count": null,
      "id": "retired-meaning",
      "metadata": {
        "id": "retired-meaning"
      },
      "outputs": [],
      "source": [
        "A = [True, True,          True,True, True,True,True ,True,True,True,True,True, True ,\n",
        "    True, True, True,True, True,True,False,True, True ,True, True, True,True ,True, True,True,\n",
        "    True,True,True, True, True,True,True,True]"
      ]
    },
    {
      "cell_type": "code",
      "execution_count": null,
      "id": "meaningful-airfare",
      "metadata": {
        "scrolled": true,
        "id": "meaningful-airfare",
        "outputId": "442520ef-ffaf-4321-ccee-4864cad6e4dc"
      },
      "outputs": [
        {
          "data": {
            "text/plain": [
              "True"
            ]
          },
          "execution_count": 41,
          "metadata": {},
          "output_type": "execute_result"
        }
      ],
      "source": [
        "any(A)"
      ]
    },
    {
      "cell_type": "markdown",
      "id": "spectacular-nation",
      "metadata": {
        "id": "spectacular-nation"
      },
      "source": [
        "**5-** Calcula el promedio de la siguiente lista."
      ]
    },
    {
      "cell_type": "code",
      "execution_count": null,
      "id": "lonely-microwave",
      "metadata": {
        "id": "lonely-microwave"
      },
      "outputs": [],
      "source": [
        "ventas = [1000,30000,45000,5000,19500,50000,1000,25000,125000,65000,2500,12500,5000,200000,5000,2500,1500,3000,250,5000,20000,\n",
        "2500,3500,500,175,10000,12000,7757,50000,3500,1000,2000,25000,12000,10000,4000,10000,3000,15000,\n",
        "3000, 2100, 15000, 1500, 10000,2500]"
      ]
    },
    {
      "cell_type": "code",
      "execution_count": null,
      "id": "cutting-heating",
      "metadata": {
        "id": "cutting-heating",
        "outputId": "461618a4-db52-4af5-d227-a5a0db1bc164"
      },
      "outputs": [
        {
          "data": {
            "text/plain": [
              "18439.6"
            ]
          },
          "execution_count": 43,
          "metadata": {},
          "output_type": "execute_result"
        }
      ],
      "source": [
        "sum(ventas)/len(ventas)"
      ]
    },
    {
      "cell_type": "markdown",
      "id": "furnished-fishing",
      "metadata": {
        "id": "furnished-fishing"
      },
      "source": [
        "**6-** Cuál fue la venta más alta, cuál fue la más baja y en qué posiciones están?"
      ]
    },
    {
      "cell_type": "code",
      "execution_count": null,
      "id": "tested-bottom",
      "metadata": {
        "id": "tested-bottom",
        "outputId": "b195c87f-b2f1-4864-c5fa-15b8548f2ed1"
      },
      "outputs": [
        {
          "data": {
            "text/plain": [
              "200000"
            ]
          },
          "execution_count": 44,
          "metadata": {},
          "output_type": "execute_result"
        }
      ],
      "source": [
        "max(ventas)"
      ]
    },
    {
      "cell_type": "code",
      "execution_count": null,
      "id": "processed-greeting",
      "metadata": {
        "id": "processed-greeting",
        "outputId": "f03b1d69-3eaa-4865-c546-246e1c96659c"
      },
      "outputs": [
        {
          "data": {
            "text/plain": [
              "175"
            ]
          },
          "execution_count": 45,
          "metadata": {},
          "output_type": "execute_result"
        }
      ],
      "source": [
        "min(ventas)"
      ]
    },
    {
      "cell_type": "markdown",
      "id": "upper-greeting",
      "metadata": {
        "id": "upper-greeting"
      },
      "source": [
        "### Counter"
      ]
    },
    {
      "cell_type": "code",
      "execution_count": null,
      "id": "scientific-effectiveness",
      "metadata": {
        "id": "scientific-effectiveness"
      },
      "outputs": [],
      "source": [
        "from collections import Counter"
      ]
    },
    {
      "cell_type": "markdown",
      "id": "ranking-demographic",
      "metadata": {
        "id": "ranking-demographic"
      },
      "source": [
        "Un counter se alimenta de los elementos de un iterable. Una vez alimentado puedes usar estos métodos:  \n",
        "- most_common\n",
        "- keys\n",
        "- values"
      ]
    },
    {
      "cell_type": "code",
      "execution_count": null,
      "id": "communist-miller",
      "metadata": {
        "id": "communist-miller"
      },
      "outputs": [],
      "source": [
        "deportes = ['Football', 'Golf', 'Baseball', 'Baseball', 'Baseball', 'Basketball', 'Baseball', 'Basketball', 'Football',\n",
        " 'Football', 'Baseball', 'Football', 'Basketball', 'Baseball', 'Basketball', 'Basketball', 'Baseball', 'Baseball', 'Football',\n",
        " 'Baseball', 'Baseball', 'Basketball', 'Basketball', 'Basketball', 'Baseball', 'Football', 'Basketball', 'Basketball', 'Golf',\n",
        " 'Football', 'Boxing', 'Baseball', 'Racing', 'Soccer', 'Boxing', 'Soccer', 'Soccer', 'Football', 'Soccer', 'Golf', 'Football', 'Football',\n",
        " 'Baseball', 'Racing', 'Racing', 'Basketball', 'Baseball', 'Football', 'Baseball', 'Baseball', 'Baseball', 'Football', 'Football',\n",
        " 'Baseball', 'Basketball', 'Basketball', 'Football', 'Basketball', 'Racing', 'Tennis', 'Soccer', 'Soccer', 'Cricket',\n",
        " 'Tennis', 'Baseball', 'Baseball', 'Football', 'Baseball', 'Baseball', 'Soccer', 'Soccer', 'Tennis', 'Basketball', 'Football',\n",
        " 'Golf', 'Baseball', 'Soccer', 'Tennis', 'Racing', 'Soccer', 'Baseball', 'Tennis', 'Golf', 'Basketball', 'Basketball', 'Baseball',\n",
        " 'Boxing', 'Racing', 'Tennis', 'Soccer', 'Soccer', 'Football', 'Baseball', 'Track', 'Baseball', 'Soccer', 'Boxing', 'Basketball', 'Soccer',\n",
        " 'Soccer']"
      ]
    },
    {
      "cell_type": "markdown",
      "id": "proof-experiment",
      "metadata": {
        "id": "proof-experiment"
      },
      "source": [
        "**7-** Cuántos elementos hay en la lista?"
      ]
    },
    {
      "cell_type": "code",
      "execution_count": null,
      "id": "painful-undergraduate",
      "metadata": {
        "id": "painful-undergraduate",
        "outputId": "010cf7c4-9bb5-4da9-b493-c259f7d17e97"
      },
      "outputs": [
        {
          "data": {
            "text/plain": [
              "100"
            ]
          },
          "execution_count": 64,
          "metadata": {},
          "output_type": "execute_result"
        }
      ],
      "source": [
        "len(deportes)"
      ]
    },
    {
      "cell_type": "markdown",
      "id": "joined-baseline",
      "metadata": {
        "id": "joined-baseline"
      },
      "source": [
        "**8-** Cuáles deportes únicos hay en la lista?"
      ]
    },
    {
      "cell_type": "code",
      "execution_count": null,
      "id": "sharing-certificate",
      "metadata": {
        "id": "sharing-certificate"
      },
      "outputs": [],
      "source": [
        "C = Counter(deportes)"
      ]
    },
    {
      "cell_type": "code",
      "execution_count": null,
      "id": "middle-amendment",
      "metadata": {
        "id": "middle-amendment",
        "outputId": "a0f7e44b-8de7-49f3-9a6c-c621fdd02c37"
      },
      "outputs": [
        {
          "data": {
            "text/plain": [
              "10"
            ]
          },
          "execution_count": 66,
          "metadata": {},
          "output_type": "execute_result"
        }
      ],
      "source": [
        "len(C.keys())"
      ]
    },
    {
      "cell_type": "markdown",
      "id": "functional-finance",
      "metadata": {
        "id": "functional-finance"
      },
      "source": [
        "**9-** Cuáles son los 3 más frecuentes?"
      ]
    },
    {
      "cell_type": "code",
      "execution_count": null,
      "id": "headed-implementation",
      "metadata": {
        "id": "headed-implementation",
        "outputId": "1619ad48-9514-40ef-c622-c3a31776fe37"
      },
      "outputs": [
        {
          "data": {
            "text/plain": [
              "[('Baseball', 27), ('Basketball', 18), ('Football', 17)]"
            ]
          },
          "execution_count": 69,
          "metadata": {},
          "output_type": "execute_result"
        }
      ],
      "source": [
        "C.most_common(3)"
      ]
    },
    {
      "cell_type": "markdown",
      "id": "selected-grammar",
      "metadata": {
        "id": "selected-grammar"
      },
      "source": [
        "**10-** Cuál es la letra más repetida del siguiente string?"
      ]
    },
    {
      "cell_type": "code",
      "execution_count": null,
      "id": "satisfactory-terrain",
      "metadata": {
        "id": "satisfactory-terrain"
      },
      "outputs": [],
      "source": [
        "palabrota = 'supercalifragilisticoespialidoso'"
      ]
    },
    {
      "cell_type": "code",
      "execution_count": null,
      "id": "suspected-russian",
      "metadata": {
        "id": "suspected-russian"
      },
      "outputs": [],
      "source": [
        "C = Counter(palabrota)"
      ]
    },
    {
      "cell_type": "code",
      "execution_count": null,
      "id": "characteristic-stevens",
      "metadata": {
        "id": "characteristic-stevens",
        "outputId": "6b6ded32-54e4-4b65-9e18-5db117a4b6d6"
      },
      "outputs": [
        {
          "data": {
            "text/plain": [
              "[('i', 6)]"
            ]
          },
          "execution_count": 72,
          "metadata": {},
          "output_type": "execute_result"
        }
      ],
      "source": [
        "C.most_common(1)"
      ]
    },
    {
      "cell_type": "markdown",
      "id": "returning-surgeon",
      "metadata": {
        "id": "returning-surgeon"
      },
      "source": [
        "**10-** Del siguiente string separa el nombre y el título en dos variables diferentes"
      ]
    },
    {
      "cell_type": "code",
      "execution_count": null,
      "id": "essential-syndrome",
      "metadata": {
        "id": "essential-syndrome"
      },
      "outputs": [],
      "source": [
        "ejemplo = 'Lic. Martínez'"
      ]
    },
    {
      "cell_type": "code",
      "execution_count": null,
      "id": "bridal-fusion",
      "metadata": {
        "id": "bridal-fusion"
      },
      "outputs": [],
      "source": [
        "titulo = ejemplo.split('.')[0]\n",
        "nombre = ejemplo.split('.')[1]"
      ]
    },
    {
      "cell_type": "code",
      "execution_count": null,
      "id": "atlantic-sixth",
      "metadata": {
        "id": "atlantic-sixth",
        "outputId": "9befd963-1b77-42ac-c9a4-6927de745764"
      },
      "outputs": [
        {
          "data": {
            "text/plain": [
              "'Lic'"
            ]
          },
          "execution_count": 81,
          "metadata": {},
          "output_type": "execute_result"
        }
      ],
      "source": [
        "titulo"
      ]
    },
    {
      "cell_type": "code",
      "execution_count": null,
      "id": "annual-default",
      "metadata": {
        "id": "annual-default",
        "outputId": "f9938803-d2ca-4910-c213-01300aec3a3e"
      },
      "outputs": [
        {
          "data": {
            "text/plain": [
              "' Martínez'"
            ]
          },
          "execution_count": 82,
          "metadata": {},
          "output_type": "execute_result"
        }
      ],
      "source": [
        "nombre"
      ]
    },
    {
      "cell_type": "markdown",
      "id": "knowing-creation",
      "metadata": {
        "id": "knowing-creation"
      },
      "source": [
        "**11-** Cuenta el número de palabras (separadas por un espacio) en este string"
      ]
    },
    {
      "cell_type": "code",
      "execution_count": null,
      "id": "deadly-hometown",
      "metadata": {
        "id": "deadly-hometown"
      },
      "outputs": [],
      "source": [
        "ejemplo = '''\n",
        "Se trata del asteroide que fue bautizado como 2001 FO32', el cual tiene entre 440 y 680 metros de diámetro, comparable al tamaño del puente Golden Gate en San Francisco, EUA. \n",
        "Pasará a más de 124 mil kilómetros por hora, una velocidad más alta de la usual en la mayoría de astros que se acercan al planeta Tierra. \n",
        "El acercamiento de este asteroide a la Tierra permitirá a los astrónomos estudiar de manera más precisa el tamaño y el brillo de su superficie así como otros elementos que les permitirán comprender mejor la composición del cuerpo celeste.\n",
        "A pesar de su gran dimensión y velocidad no debes preocuparte porque la Administración Nacional de Aeronáutica y el Espacio (NASA) confirmó que el paso del asteroide no representa peligro para la Tierra ni sus habitantes. \n",
        "Conocemos la trayectoria orbital del ‘2001 FO32' alrededor del Sol con mucha precisión desde que fue descubierto hace 20 años, y ha sido rastreado desde entonces.\n",
        "Después de que el asteroide se encuentre en su punto más cercano con la Tierra, continuará su trayectoria y no volverá a acercarse hasta 2052. \n",
        "Para ese entonces se estima que pasará a 2.8 millones de kilómetros de la superficie terrestre, confirmó Paul Chodas, director del Centro de Estudios de Objetos Cercanos a la Tierra (NEO Studies) de la NASA.\n",
        "'''"
      ]
    },
    {
      "cell_type": "code",
      "execution_count": null,
      "id": "final-officer",
      "metadata": {
        "id": "final-officer",
        "outputId": "ba64ccb6-c42f-4801-d784-4c5874fa99d9"
      },
      "outputs": [
        {
          "data": {
            "text/plain": [
              "217"
            ]
          },
          "execution_count": 85,
          "metadata": {},
          "output_type": "execute_result"
        }
      ],
      "source": [
        "len(ejemplo.split(' '))"
      ]
    },
    {
      "cell_type": "markdown",
      "id": "hispanic-drill",
      "metadata": {
        "id": "hispanic-drill"
      },
      "source": [
        "## 2. Tuplas"
      ]
    },
    {
      "cell_type": "markdown",
      "id": "cooperative-miniature",
      "metadata": {
        "id": "cooperative-miniature"
      },
      "source": [
        "Son esencialmente lo mismo que una lista, pero son inmutables, más rápidas y tienen muchos menos métodos."
      ]
    },
    {
      "cell_type": "markdown",
      "id": "alive-mainland",
      "metadata": {
        "id": "alive-mainland"
      },
      "source": [
        "Diferencia en velocidad"
      ]
    },
    {
      "cell_type": "code",
      "execution_count": null,
      "id": "stuck-clearing",
      "metadata": {
        "id": "stuck-clearing",
        "outputId": "8c59a71c-f5c1-4e49-c0a6-ae1721c62491"
      },
      "outputs": [
        {
          "name": "stdout",
          "output_type": "stream",
          "text": [
            "70.4 ns ± 0.43 ns per loop (mean ± std. dev. of 7 runs, 10000000 loops each)\n"
          ]
        }
      ],
      "source": [
        "%%timeit\n",
        "Z_lista = [1,29,3,4,28,20,19,5,23,32,10]"
      ]
    },
    {
      "cell_type": "code",
      "execution_count": null,
      "id": "varying-development",
      "metadata": {
        "id": "varying-development",
        "outputId": "bf62df3b-aab5-4102-e8de-2e2fe21b77e8"
      },
      "outputs": [
        {
          "name": "stdout",
          "output_type": "stream",
          "text": [
            "7.23 ns ± 0.0908 ns per loop (mean ± std. dev. of 7 runs, 100000000 loops each)\n"
          ]
        }
      ],
      "source": [
        "%%timeit\n",
        "Z_tupla = (1,29,3,4,28,20,19,5,23,32,10)"
      ]
    },
    {
      "cell_type": "code",
      "execution_count": null,
      "id": "overall-diana",
      "metadata": {
        "id": "overall-diana",
        "outputId": "ed6ca641-96e4-4fc6-da7a-4918cbc6cd51"
      },
      "outputs": [
        {
          "ename": "NameError",
          "evalue": "name 'Z_lista' is not defined",
          "output_type": "error",
          "traceback": [
            "\u001b[0;31m---------------------------------------------------------------------------\u001b[0m",
            "\u001b[0;31mNameError\u001b[0m                                 Traceback (most recent call last)",
            "\u001b[0;32m<ipython-input-88-1d92e57d07ca>\u001b[0m in \u001b[0;36m<module>\u001b[0;34m\u001b[0m\n\u001b[0;32m----> 1\u001b[0;31m \u001b[0mZ_lista\u001b[0m\u001b[0;34m[\u001b[0m\u001b[0;36m0\u001b[0m\u001b[0;34m]\u001b[0m \u001b[0;34m=\u001b[0m \u001b[0;34m'Cambié el primer elemento'\u001b[0m\u001b[0;34m\u001b[0m\u001b[0;34m\u001b[0m\u001b[0m\n\u001b[0m\u001b[1;32m      2\u001b[0m \u001b[0mZ_lista\u001b[0m\u001b[0;34m\u001b[0m\u001b[0;34m\u001b[0m\u001b[0m\n",
            "\u001b[0;31mNameError\u001b[0m: name 'Z_lista' is not defined"
          ]
        }
      ],
      "source": [
        "Z_lista[0] = 'Cambié el primer elemento'\n",
        "Z_lista"
      ]
    },
    {
      "cell_type": "code",
      "execution_count": null,
      "id": "announced-steel",
      "metadata": {
        "id": "announced-steel",
        "outputId": "96059316-77c4-4d7a-8da9-6ba1ba114ff3"
      },
      "outputs": [
        {
          "ename": "TypeError",
          "evalue": "'tuple' object does not support item assignment",
          "output_type": "error",
          "traceback": [
            "\u001b[0;31m---------------------------------------------------------------------------\u001b[0m",
            "\u001b[0;31mTypeError\u001b[0m                                 Traceback (most recent call last)",
            "\u001b[0;32m<ipython-input-11-ff3dc53e2580>\u001b[0m in \u001b[0;36m<module>\u001b[0;34m\u001b[0m\n\u001b[0;32m----> 1\u001b[0;31m \u001b[0mZ_tupla\u001b[0m\u001b[0;34m[\u001b[0m\u001b[0;36m0\u001b[0m\u001b[0;34m]\u001b[0m \u001b[0;34m=\u001b[0m \u001b[0;34m'Esto no se puede hacer'\u001b[0m\u001b[0;34m\u001b[0m\u001b[0;34m\u001b[0m\u001b[0m\n\u001b[0m\u001b[1;32m      2\u001b[0m \u001b[0mZ_tupla\u001b[0m\u001b[0;34m\u001b[0m\u001b[0;34m\u001b[0m\u001b[0m\n",
            "\u001b[0;31mTypeError\u001b[0m: 'tuple' object does not support item assignment"
          ]
        }
      ],
      "source": [
        "Z_tupla[0] = 'Esto no se puede hacer'\n",
        "Z_tupla"
      ]
    },
    {
      "cell_type": "markdown",
      "id": "olympic-ceramic",
      "metadata": {
        "id": "olympic-ceramic"
      },
      "source": [
        "## 3. Sets"
      ]
    },
    {
      "cell_type": "markdown",
      "id": "sized-lewis",
      "metadata": {
        "id": "sized-lewis"
      },
      "source": [
        "Se definen por curly bracks"
      ]
    },
    {
      "cell_type": "code",
      "execution_count": null,
      "id": "spiritual-benefit",
      "metadata": {
        "id": "spiritual-benefit"
      },
      "outputs": [],
      "source": [
        "un_set = {1,2,3,4,5}\n",
        "un_set"
      ]
    },
    {
      "cell_type": "markdown",
      "id": "polar-syracuse",
      "metadata": {
        "id": "polar-syracuse"
      },
      "source": [
        "Automáticamente filtra valores repetidos"
      ]
    },
    {
      "cell_type": "code",
      "execution_count": null,
      "id": "original-henry",
      "metadata": {
        "id": "original-henry"
      },
      "outputs": [],
      "source": [
        "un_set = {1,2,3,4,5,1,2,3,4,5}\n",
        "un_set"
      ]
    },
    {
      "cell_type": "markdown",
      "id": "worth-provincial",
      "metadata": {
        "id": "worth-provincial"
      },
      "source": [
        "Puede contener diferentes tipos"
      ]
    },
    {
      "cell_type": "code",
      "execution_count": null,
      "id": "approximate-notification",
      "metadata": {
        "id": "approximate-notification"
      },
      "outputs": [],
      "source": [
        "un_set = {1,2,3,4,5,'1',2.0,3.0,4.000001,5.1,'2.0','2'}\n",
        "un_set"
      ]
    },
    {
      "cell_type": "markdown",
      "id": "thousand-entrance",
      "metadata": {
        "id": "thousand-entrance"
      },
      "source": [
        "Hace cosas chistosas con booleanos"
      ]
    },
    {
      "cell_type": "code",
      "execution_count": null,
      "id": "legendary-canada",
      "metadata": {
        "id": "legendary-canada"
      },
      "outputs": [],
      "source": [
        "un_set = {0,1,True,False}\n",
        "un_set"
      ]
    },
    {
      "cell_type": "code",
      "execution_count": null,
      "id": "impressive-anxiety",
      "metadata": {
        "id": "impressive-anxiety"
      },
      "outputs": [],
      "source": [
        "un_set = {False, True, 0, 1}\n",
        "un_set"
      ]
    },
    {
      "cell_type": "markdown",
      "id": "divine-library",
      "metadata": {
        "id": "divine-library"
      },
      "source": [
        "Puedes convertir listas y tuplas en sets"
      ]
    },
    {
      "cell_type": "code",
      "execution_count": null,
      "id": "severe-interface",
      "metadata": {
        "id": "severe-interface"
      },
      "outputs": [],
      "source": [
        "ejemplo = ['Esta','Es','es','es','una','lista']\n",
        "set(ejemplo)"
      ]
    },
    {
      "cell_type": "markdown",
      "id": "democratic-reader",
      "metadata": {
        "id": "democratic-reader"
      },
      "source": [
        "**Métodos útiles**\n",
        "- **set.add**\n",
        "    - Añade un elemento alset\n",
        "- **set.update**\n",
        "    - Añade otro set al set\n",
        "- **set.clear**\n",
        "    - Limpia el contenido del set\n",
        "- **set.pop**\n",
        "    - Quita un elemento y muéstralo\n",
        "- **set.remove**\n",
        "    - Quita un elemento\n",
        "- **set.union**\n",
        "    - Resultado de los elementos de ambos set\n",
        "- **set.difference**\n",
        "    - Qué elementos son diferentes entre sets\n",
        "- **set.intersection**\n",
        "    - Qué elementos son comúnes entre sets\n",
        "- **set.issubset**\n",
        "    - Es mi set parte de otro?\n",
        "- **set.issuperset**\n",
        "    - Es mi set un completo + extra de otro?"
      ]
    },
    {
      "cell_type": "markdown",
      "id": "reported-establishment",
      "metadata": {
        "id": "reported-establishment"
      },
      "source": [
        "**1-** Sobreescribe las siguientes variables como sets."
      ]
    },
    {
      "cell_type": "code",
      "execution_count": null,
      "id": "absent-pollution",
      "metadata": {
        "id": "absent-pollution"
      },
      "outputs": [],
      "source": [
        "productos = ['Celulares', 'Pantallas', 'Relojes inteligentes', 'Tabletas', 'Laptops']\n",
        "promo1 = ['Pantallas','Tabletas','Relojes inteligentes']\n",
        "promo2 = ['Celulares','Pantallas','Zapatos','Laptops']"
      ]
    },
    {
      "cell_type": "code",
      "execution_count": null,
      "id": "raising-consumer",
      "metadata": {
        "id": "raising-consumer"
      },
      "outputs": [],
      "source": [
        "productos = set(productos)\n",
        "promo1 = set(promo1)\n",
        "promo2 = set(promo2)"
      ]
    },
    {
      "cell_type": "markdown",
      "id": "cooked-police",
      "metadata": {
        "id": "cooked-police"
      },
      "source": [
        "**2-** Determina si promo1  y promo2 son subsets de productos."
      ]
    },
    {
      "cell_type": "code",
      "execution_count": null,
      "id": "civilian-honolulu",
      "metadata": {
        "id": "civilian-honolulu",
        "outputId": "abbb00f4-096e-4bed-e995-977caf4ba5cd"
      },
      "outputs": [
        {
          "data": {
            "text/plain": [
              "True"
            ]
          },
          "execution_count": 92,
          "metadata": {},
          "output_type": "execute_result"
        }
      ],
      "source": [
        "promo1.issubset(productos)"
      ]
    },
    {
      "cell_type": "code",
      "execution_count": null,
      "id": "atomic-physiology",
      "metadata": {
        "id": "atomic-physiology",
        "outputId": "18df224a-c78d-4c51-9a60-627760595ca6"
      },
      "outputs": [
        {
          "data": {
            "text/plain": [
              "False"
            ]
          },
          "execution_count": 93,
          "metadata": {},
          "output_type": "execute_result"
        }
      ],
      "source": [
        "promo2.issubset(productos)"
      ]
    },
    {
      "cell_type": "markdown",
      "id": "consistent-stroke",
      "metadata": {
        "id": "consistent-stroke"
      },
      "source": [
        "**3-** Qué elementos de promo2 existen en productos?"
      ]
    },
    {
      "cell_type": "code",
      "execution_count": null,
      "id": "indoor-thinking",
      "metadata": {
        "id": "indoor-thinking",
        "outputId": "13639693-67b4-4676-b5a4-e7e699c35961"
      },
      "outputs": [
        {
          "data": {
            "text/plain": [
              "{'Celulares', 'Laptops', 'Pantallas'}"
            ]
          },
          "execution_count": 94,
          "metadata": {},
          "output_type": "execute_result"
        }
      ],
      "source": [
        "promo2.intersection(productos)"
      ]
    },
    {
      "cell_type": "code",
      "execution_count": null,
      "id": "working-stick",
      "metadata": {
        "id": "working-stick",
        "outputId": "9b65245e-b9a2-43c8-c00d-2b153abf33fa"
      },
      "outputs": [
        {
          "data": {
            "text/plain": [
              "{'Zapatos'}"
            ]
          },
          "execution_count": 95,
          "metadata": {},
          "output_type": "execute_result"
        }
      ],
      "source": [
        "promo2.difference(productos)"
      ]
    },
    {
      "cell_type": "markdown",
      "id": "discrete-lounge",
      "metadata": {
        "id": "discrete-lounge"
      },
      "source": [
        "**4-** Si unes promo1 y promo2 qué elementos esperas que estén presentes en el set resultante?"
      ]
    },
    {
      "cell_type": "code",
      "execution_count": null,
      "id": "latest-devices",
      "metadata": {
        "id": "latest-devices",
        "outputId": "70db596c-e236-498a-9464-f25209d333df"
      },
      "outputs": [
        {
          "data": {
            "text/plain": [
              "{'Celulares',\n",
              " 'Laptops',\n",
              " 'Pantallas',\n",
              " 'Relojes inteligentes',\n",
              " 'Tabletas',\n",
              " 'Zapatos'}"
            ]
          },
          "execution_count": 96,
          "metadata": {},
          "output_type": "execute_result"
        }
      ],
      "source": [
        "promo1.union(promo2)"
      ]
    },
    {
      "cell_type": "markdown",
      "id": "divine-montgomery",
      "metadata": {
        "id": "divine-montgomery"
      },
      "source": [
        "**5-** Si sacas la diferencia entre promo1 y promo2 qué elementos esperas que estén presentes en el set resultante?"
      ]
    },
    {
      "cell_type": "code",
      "execution_count": null,
      "id": "considerable-question",
      "metadata": {
        "id": "considerable-question",
        "outputId": "876ab14a-4ee2-4da6-ea1c-67b84cc7a8ec"
      },
      "outputs": [
        {
          "data": {
            "text/plain": [
              "{'Relojes inteligentes', 'Tabletas'}"
            ]
          },
          "execution_count": 97,
          "metadata": {},
          "output_type": "execute_result"
        }
      ],
      "source": [
        "promo1.difference(promo2)"
      ]
    },
    {
      "cell_type": "markdown",
      "id": "fiscal-cricket",
      "metadata": {
        "id": "fiscal-cricket"
      },
      "source": [
        "**6-** Usa intersection y any para determinar si al menos un elemento en común entre ambos sets."
      ]
    },
    {
      "cell_type": "code",
      "execution_count": null,
      "id": "coupled-diesel",
      "metadata": {
        "id": "coupled-diesel"
      },
      "outputs": [],
      "source": [
        "ejemplo1 = {'Amarillo', 'Naranja', 'Indigo'}\n",
        "ejemplo2 = {'Azul', 'Verde', 'Rojo','Amarillo'}"
      ]
    },
    {
      "cell_type": "code",
      "execution_count": null,
      "id": "close-variable",
      "metadata": {
        "id": "close-variable",
        "outputId": "ce6754f4-7a79-4977-f378-cecf4be76b2c"
      },
      "outputs": [
        {
          "data": {
            "text/plain": [
              "{'Amarillo'}"
            ]
          },
          "execution_count": 100,
          "metadata": {},
          "output_type": "execute_result"
        }
      ],
      "source": [
        "ejemplo1.intersection(ejemplo2)"
      ]
    },
    {
      "cell_type": "markdown",
      "id": "broad-ecology",
      "metadata": {
        "id": "broad-ecology"
      },
      "source": [
        "**7-** Crea un set que contenga los contenidos de ambos ejemplos y guárdalo en una variable."
      ]
    },
    {
      "cell_type": "code",
      "execution_count": null,
      "id": "expired-nashville",
      "metadata": {
        "id": "expired-nashville"
      },
      "outputs": [],
      "source": [
        "ejemplo3 = ejemplo1.union(ejemplo2)"
      ]
    },
    {
      "cell_type": "markdown",
      "id": "straight-cache",
      "metadata": {
        "id": "straight-cache"
      },
      "source": [
        "**8-** Quita Rojo del set que creaste en el paso anterior"
      ]
    },
    {
      "cell_type": "code",
      "execution_count": null,
      "id": "persistent-calibration",
      "metadata": {
        "id": "persistent-calibration"
      },
      "outputs": [],
      "source": [
        "ejemplo3.remove('Rojo')"
      ]
    },
    {
      "cell_type": "code",
      "execution_count": null,
      "id": "completed-march",
      "metadata": {
        "id": "completed-march",
        "outputId": "cbda999d-0d69-422c-8834-126cc7034581"
      },
      "outputs": [
        {
          "data": {
            "text/plain": [
              "{'Amarillo', 'Azul', 'Indigo', 'Naranja', 'Verde'}"
            ]
          },
          "execution_count": 103,
          "metadata": {},
          "output_type": "execute_result"
        }
      ],
      "source": [
        "ejemplo3"
      ]
    },
    {
      "cell_type": "markdown",
      "id": "accompanied-screen",
      "metadata": {
        "id": "accompanied-screen"
      },
      "source": [
        "**9-** Añade los siguientes elementos al set"
      ]
    },
    {
      "cell_type": "code",
      "execution_count": null,
      "id": "inappropriate-retail",
      "metadata": {
        "id": "inappropriate-retail"
      },
      "outputs": [],
      "source": [
        "nuevos_elementos = ['Violeta', 'Blanco', 'Negro']"
      ]
    },
    {
      "cell_type": "code",
      "execution_count": null,
      "id": "pediatric-deficit",
      "metadata": {
        "id": "pediatric-deficit"
      },
      "outputs": [],
      "source": [
        "ejemplo3.update(nuevos_elementos)"
      ]
    },
    {
      "cell_type": "markdown",
      "id": "heavy-disease",
      "metadata": {
        "id": "heavy-disease"
      },
      "source": [
        "## 4. Diccionarios"
      ]
    },
    {
      "cell_type": "markdown",
      "id": "about-receptor",
      "metadata": {
        "id": "about-receptor"
      },
      "source": [
        "Tienen una llave y un valor. Sus valores son fáciles de accesar!"
      ]
    },
    {
      "cell_type": "code",
      "execution_count": null,
      "id": "pregnant-compound",
      "metadata": {
        "id": "pregnant-compound"
      },
      "outputs": [],
      "source": [
        "diccionario = {'Llave':'Valor'}"
      ]
    },
    {
      "cell_type": "markdown",
      "id": "opposed-colonial",
      "metadata": {
        "id": "opposed-colonial"
      },
      "source": [
        "Podemos accesar al valor mediante la llave"
      ]
    },
    {
      "cell_type": "code",
      "execution_count": null,
      "id": "heard-inspector",
      "metadata": {
        "id": "heard-inspector",
        "outputId": "ba97049f-5c8f-4b1c-9893-b52f4350b4cd"
      },
      "outputs": [
        {
          "data": {
            "text/plain": [
              "'Valor'"
            ]
          },
          "execution_count": 108,
          "metadata": {},
          "output_type": "execute_result"
        }
      ],
      "source": [
        "diccionario['Llave']"
      ]
    },
    {
      "cell_type": "markdown",
      "id": "defined-treaty",
      "metadata": {
        "id": "defined-treaty"
      },
      "source": [
        "Pero no a la llave mediante el valor"
      ]
    },
    {
      "cell_type": "code",
      "execution_count": null,
      "id": "fiscal-italy",
      "metadata": {
        "id": "fiscal-italy",
        "outputId": "c7b1f1f6-d47b-46cb-d3f8-abec6f28da84"
      },
      "outputs": [
        {
          "ename": "KeyError",
          "evalue": "'Valor'",
          "output_type": "error",
          "traceback": [
            "\u001b[0;31m---------------------------------------------------------------------------\u001b[0m",
            "\u001b[0;31mKeyError\u001b[0m                                  Traceback (most recent call last)",
            "\u001b[0;32m<ipython-input-109-3a3ffea8f818>\u001b[0m in \u001b[0;36m<module>\u001b[0;34m\u001b[0m\n\u001b[0;32m----> 1\u001b[0;31m \u001b[0mdiccionario\u001b[0m\u001b[0;34m[\u001b[0m\u001b[0;34m'Valor'\u001b[0m\u001b[0;34m]\u001b[0m\u001b[0;34m\u001b[0m\u001b[0;34m\u001b[0m\u001b[0m\n\u001b[0m",
            "\u001b[0;31mKeyError\u001b[0m: 'Valor'"
          ]
        }
      ],
      "source": [
        "diccionario['Valor']"
      ]
    },
    {
      "cell_type": "markdown",
      "id": "unusual-avenue",
      "metadata": {
        "id": "unusual-avenue"
      },
      "source": [
        "El valor puede ser cualquier cosa y puedes tener tantas llaves únicas como desees"
      ]
    },
    {
      "cell_type": "code",
      "execution_count": null,
      "id": "honey-tragedy",
      "metadata": {
        "id": "honey-tragedy"
      },
      "outputs": [],
      "source": [
        "diccionario = {'Llave1':'Valor', 'Llave2':['Hola','Mundo',1000], 'Llave3': {1,1,1}}"
      ]
    },
    {
      "cell_type": "code",
      "execution_count": null,
      "id": "consistent-breakdown",
      "metadata": {
        "id": "consistent-breakdown",
        "outputId": "0b381997-9507-4f9a-a039-0f05ccd62c0e"
      },
      "outputs": [
        {
          "data": {
            "text/plain": [
              "['Hola', 'Mundo', 1000]"
            ]
          },
          "execution_count": 111,
          "metadata": {},
          "output_type": "execute_result"
        }
      ],
      "source": [
        "diccionario['Llave2']"
      ]
    },
    {
      "cell_type": "markdown",
      "id": "german-python",
      "metadata": {
        "id": "german-python"
      },
      "source": [
        "Si repites llaves, sólo se quedará con el valor más reciente"
      ]
    },
    {
      "cell_type": "code",
      "execution_count": null,
      "id": "innovative-period",
      "metadata": {
        "id": "innovative-period"
      },
      "outputs": [],
      "source": [
        "diccionario = {'Llave1':'Valor', 'Llave1':['Hola','Mundo',1000], 'Llave2': {1,1,1}}"
      ]
    },
    {
      "cell_type": "code",
      "execution_count": null,
      "id": "different-mainstream",
      "metadata": {
        "id": "different-mainstream",
        "outputId": "a032cdd8-4eca-4801-b6ea-e2f0d7e23a72"
      },
      "outputs": [
        {
          "data": {
            "text/plain": [
              "['Hola', 'Mundo', 1000]"
            ]
          },
          "execution_count": 113,
          "metadata": {},
          "output_type": "execute_result"
        }
      ],
      "source": [
        "diccionario['Llave1']"
      ]
    },
    {
      "cell_type": "markdown",
      "id": "pregnant-honolulu",
      "metadata": {
        "id": "pregnant-honolulu"
      },
      "source": [
        "Puedes crear un diccionario vacío y poblarlo conforme vas"
      ]
    },
    {
      "cell_type": "code",
      "execution_count": null,
      "id": "immediate-glucose",
      "metadata": {
        "id": "immediate-glucose",
        "outputId": "b6471da4-3c42-4f60-9b03-dc33cebd8b58"
      },
      "outputs": [
        {
          "data": {
            "text/plain": [
              "'Recién agregado'"
            ]
          },
          "execution_count": 114,
          "metadata": {},
          "output_type": "execute_result"
        }
      ],
      "source": [
        "diccionario = {}\n",
        "diccionario['Llave1'] = 'Recién agregado'\n",
        "diccionario['Llave1']"
      ]
    },
    {
      "cell_type": "markdown",
      "id": "informal-absence",
      "metadata": {
        "id": "informal-absence"
      },
      "source": [
        "También puedes sobreescribir los valores"
      ]
    },
    {
      "cell_type": "code",
      "execution_count": null,
      "id": "weighted-consensus",
      "metadata": {
        "id": "weighted-consensus",
        "outputId": "672e549e-b324-4e21-b0be-64ac547ca0e3"
      },
      "outputs": [
        {
          "data": {
            "text/plain": [
              "'Nuevo valor'"
            ]
          },
          "execution_count": 115,
          "metadata": {},
          "output_type": "execute_result"
        }
      ],
      "source": [
        "diccionario['Llave1'] = 'Nuevo valor'\n",
        "diccionario['Llave1']"
      ]
    },
    {
      "cell_type": "markdown",
      "id": "incredible-diversity",
      "metadata": {
        "id": "incredible-diversity"
      },
      "source": [
        "Otra manera de hacer un diccionario es .fromkeys() donde puedes pasar un iterable con las llaves que te interesan y un valor para llenarlo después."
      ]
    },
    {
      "cell_type": "code",
      "execution_count": null,
      "id": "center-syndrome",
      "metadata": {
        "id": "center-syndrome",
        "outputId": "8fc7d719-11a4-417b-db73-61b7b47cb22c"
      },
      "outputs": [
        {
          "data": {
            "text/plain": [
              "{'IT': [], 'R&D': [], 'RH': [], 'Data Science': []}"
            ]
          },
          "execution_count": 116,
          "metadata": {},
          "output_type": "execute_result"
        }
      ],
      "source": [
        "departamentos = ['IT','R&D','RH','Data Science']\n",
        "{}.fromkeys(departamentos,[])"
      ]
    },
    {
      "cell_type": "markdown",
      "id": "maritime-corps",
      "metadata": {
        "id": "maritime-corps"
      },
      "source": [
        "Ahora tenemos un diccionario con las laves correspondientes y podremos llenar las listas vacías con las personas correspondientes! (mañana)"
      ]
    },
    {
      "cell_type": "markdown",
      "id": "noticed-tattoo",
      "metadata": {
        "id": "noticed-tattoo"
      },
      "source": [
        "Además siempre puedes acceder a los atributos, keys, values e items."
      ]
    },
    {
      "cell_type": "code",
      "execution_count": null,
      "id": "reverse-toddler",
      "metadata": {
        "id": "reverse-toddler"
      },
      "outputs": [],
      "source": [
        "diccionario = {'Llave1':'Valor', 'Llave1':['Hola','Mundo',1000], 'Llave2': {1,1,1}}"
      ]
    },
    {
      "cell_type": "code",
      "execution_count": null,
      "id": "multiple-opposition",
      "metadata": {
        "id": "multiple-opposition",
        "outputId": "4e68aa15-abfa-4512-c329-64c71473b746"
      },
      "outputs": [
        {
          "data": {
            "text/plain": [
              "dict_keys(['Llave1', 'Llave2'])"
            ]
          },
          "execution_count": 118,
          "metadata": {},
          "output_type": "execute_result"
        }
      ],
      "source": [
        "diccionario.keys()"
      ]
    },
    {
      "cell_type": "code",
      "execution_count": null,
      "id": "sublime-cycling",
      "metadata": {
        "id": "sublime-cycling",
        "outputId": "a8be8e88-9b4c-4e29-c608-9a808629432c"
      },
      "outputs": [
        {
          "data": {
            "text/plain": [
              "dict_values([['Hola', 'Mundo', 1000], {1}])"
            ]
          },
          "execution_count": 119,
          "metadata": {},
          "output_type": "execute_result"
        }
      ],
      "source": [
        "diccionario.values()"
      ]
    },
    {
      "cell_type": "code",
      "execution_count": null,
      "id": "large-reflection",
      "metadata": {
        "id": "large-reflection",
        "outputId": "50ae5d27-4927-472f-844c-a05cbd59537d"
      },
      "outputs": [
        {
          "data": {
            "text/plain": [
              "dict_items([('Llave1', ['Hola', 'Mundo', 1000]), ('Llave2', {1})])"
            ]
          },
          "execution_count": 120,
          "metadata": {},
          "output_type": "execute_result"
        }
      ],
      "source": [
        "diccionario.items()"
      ]
    },
    {
      "cell_type": "markdown",
      "id": "assigned-cement",
      "metadata": {
        "id": "assigned-cement"
      },
      "source": [
        "Para combinar dos diccionarios podemos usar update"
      ]
    },
    {
      "cell_type": "code",
      "execution_count": null,
      "id": "phantom-batch",
      "metadata": {
        "scrolled": true,
        "id": "phantom-batch",
        "outputId": "189af946-1754-4413-af6f-4ca1669180dc"
      },
      "outputs": [
        {
          "data": {
            "text/plain": [
              "{'Llave1': 1, 'Llave2': 2, 'Llave3': 3, 'Llave4': 4}"
            ]
          },
          "execution_count": 121,
          "metadata": {},
          "output_type": "execute_result"
        }
      ],
      "source": [
        "diccionario1 = {'Llave1':1,'Llave2':2}\n",
        "diccionario2 = {'Llave3':3,'Llave4':4}\n",
        "\n",
        "diccionario1.update(diccionario2)\n",
        "diccionario1"
      ]
    },
    {
      "cell_type": "markdown",
      "id": "knowing-playback",
      "metadata": {
        "id": "knowing-playback"
      },
      "source": [
        "### Ejercicios"
      ]
    },
    {
      "cell_type": "markdown",
      "id": "recreational-mouth",
      "metadata": {
        "id": "recreational-mouth"
      },
      "source": [
        "**1-** Haz un diccionario a partir de las siguientes listas (tricky: usa zip)"
      ]
    },
    {
      "cell_type": "code",
      "execution_count": null,
      "id": "sized-barrier",
      "metadata": {
        "id": "sized-barrier"
      },
      "outputs": [],
      "source": [
        "lista1 = ['Llave1','Llave2','Llave3']\n",
        "lista2 = [1,2,3]"
      ]
    },
    {
      "cell_type": "code",
      "execution_count": null,
      "id": "behavioral-squad",
      "metadata": {
        "id": "behavioral-squad",
        "outputId": "ecbee8a2-f3f1-4215-e035-2c776739043b"
      },
      "outputs": [
        {
          "data": {
            "text/plain": [
              "[('Llave1', 1), ('Llave2', 2), ('Llave3', 3)]"
            ]
          },
          "execution_count": 124,
          "metadata": {},
          "output_type": "execute_result"
        }
      ],
      "source": [
        "list(zip(lista1, lista2))"
      ]
    },
    {
      "cell_type": "code",
      "execution_count": null,
      "id": "verbal-integrity",
      "metadata": {
        "id": "verbal-integrity",
        "outputId": "61b773f0-2baf-4896-fa3d-61b7f1a0b781"
      },
      "outputs": [
        {
          "data": {
            "text/plain": [
              "{'Llave1': 1, 'Llave2': 2, 'Llave3': 3}"
            ]
          },
          "execution_count": 125,
          "metadata": {},
          "output_type": "execute_result"
        }
      ],
      "source": [
        "dict(zip(lista1, lista2))"
      ]
    },
    {
      "cell_type": "markdown",
      "id": "substantial-framing",
      "metadata": {
        "id": "substantial-framing"
      },
      "source": [
        "**2-** Crea un diccionario donde las llaves sean la lista nombres y los valores sea el status de su orden. (Como no tenemos su status, dales un 'procesando' como default)"
      ]
    },
    {
      "cell_type": "code",
      "execution_count": null,
      "id": "czech-location",
      "metadata": {
        "id": "czech-location"
      },
      "outputs": [],
      "source": [
        "nombres = ['René','Enzo','Alba','Rodrigo','Denisse']"
      ]
    },
    {
      "cell_type": "code",
      "execution_count": null,
      "id": "reverse-component",
      "metadata": {
        "id": "reverse-component"
      },
      "outputs": [],
      "source": [
        "diccionario = {}.fromkeys(nombres, 'Procesando')"
      ]
    },
    {
      "cell_type": "code",
      "execution_count": null,
      "id": "successful-gambling",
      "metadata": {
        "id": "successful-gambling",
        "outputId": "b4c550ae-f80b-40c9-c9ec-b7e8b5114010"
      },
      "outputs": [
        {
          "data": {
            "text/plain": [
              "{'René': 'Procesando',\n",
              " 'Enzo': 'Procesando',\n",
              " 'Alba': 'Procesando',\n",
              " 'Rodrigo': 'Procesando',\n",
              " 'Denisse': 'Procesando'}"
            ]
          },
          "execution_count": 129,
          "metadata": {},
          "output_type": "execute_result"
        }
      ],
      "source": [
        "diccionario"
      ]
    },
    {
      "cell_type": "markdown",
      "id": "initial-finnish",
      "metadata": {
        "id": "initial-finnish"
      },
      "source": [
        "**3-** Actualiza el estado de la orden de Denisse a 'completado' y el de Rodrigo como 'perdido'."
      ]
    },
    {
      "cell_type": "code",
      "execution_count": null,
      "id": "printable-minute",
      "metadata": {
        "id": "printable-minute"
      },
      "outputs": [],
      "source": [
        "diccionario['Denisse'] = 'Completado'\n",
        "diccionario['Rodrigo'] = 'Perdido'"
      ]
    },
    {
      "cell_type": "code",
      "execution_count": null,
      "id": "sunrise-death",
      "metadata": {
        "id": "sunrise-death",
        "outputId": "609a222b-aeb7-4d64-8c42-cfeb5cd943e5"
      },
      "outputs": [
        {
          "data": {
            "text/plain": [
              "{'René': 'Procesando',\n",
              " 'Enzo': 'Procesando',\n",
              " 'Alba': 'Procesando',\n",
              " 'Rodrigo': 'Perdido',\n",
              " 'Denisse': 'Completado'}"
            ]
          },
          "execution_count": 131,
          "metadata": {},
          "output_type": "execute_result"
        }
      ],
      "source": [
        "diccionario"
      ]
    },
    {
      "cell_type": "markdown",
      "id": "driven-voluntary",
      "metadata": {
        "id": "driven-voluntary"
      },
      "source": [
        "**4-** A partir de la lista ID crea un diccionario de nombre usuarios y con el siguiente formulario como valor default."
      ]
    },
    {
      "cell_type": "code",
      "execution_count": null,
      "id": "choice-default",
      "metadata": {
        "id": "choice-default"
      },
      "outputs": [],
      "source": [
        "ID = [10001, 10002, 10003, 10004]\n",
        "defaults = {'Nombre':'', 'Edad':'', 'Ubicación':''}"
      ]
    },
    {
      "cell_type": "markdown",
      "id": "disciplinary-campbell",
      "metadata": {
        "id": "disciplinary-campbell"
      },
      "source": [
        "Actualiza la información del usuario ID 10001.\n",
        "- Nombre --> Amanda\n",
        "- Edad --> 26\n",
        "- Ubicación --> Pachuca"
      ]
    },
    {
      "cell_type": "code",
      "execution_count": null,
      "id": "accompanied-heating",
      "metadata": {
        "id": "accompanied-heating"
      },
      "outputs": [],
      "source": [
        "diccionario = {}.fromkeys(ID,defaults)"
      ]
    },
    {
      "cell_type": "code",
      "execution_count": null,
      "id": "juvenile-smart",
      "metadata": {
        "id": "juvenile-smart",
        "outputId": "8364f095-7835-437f-97bb-37c8697e21a4"
      },
      "outputs": [
        {
          "data": {
            "text/plain": [
              "{10001: {'Nombre': '', 'Edad': '', 'Ubicación': ''},\n",
              " 10002: {'Nombre': '', 'Edad': '', 'Ubicación': ''},\n",
              " 10003: {'Nombre': '', 'Edad': '', 'Ubicación': ''},\n",
              " 10004: {'Nombre': '', 'Edad': '', 'Ubicación': ''}}"
            ]
          },
          "execution_count": 134,
          "metadata": {},
          "output_type": "execute_result"
        }
      ],
      "source": [
        "diccionario"
      ]
    },
    {
      "cell_type": "code",
      "execution_count": null,
      "id": "backed-healing",
      "metadata": {
        "id": "backed-healing"
      },
      "outputs": [],
      "source": [
        "diccionario[10001]['Nombre'] = 'Amanda'\n",
        "diccionario[10001]['Edad'] = 26\n",
        "diccionario[10001]['Ubicación'] = 'Pachuca'"
      ]
    },
    {
      "cell_type": "code",
      "execution_count": null,
      "id": "accurate-ocean",
      "metadata": {
        "id": "accurate-ocean",
        "outputId": "211a072f-bbe4-4aa8-dce0-174f354353fe"
      },
      "outputs": [
        {
          "data": {
            "text/plain": [
              "{10001: {'Nombre': 'Amanda', 'Edad': 26, 'Ubicación': 'Pachuca'},\n",
              " 10002: {'Nombre': '', 'Edad': '', 'Ubicación': ''},\n",
              " 10003: {'Nombre': '', 'Edad': '', 'Ubicación': ''},\n",
              " 10004: {'Nombre': '', 'Edad': '', 'Ubicación': ''}}"
            ]
          },
          "execution_count": 138,
          "metadata": {},
          "output_type": "execute_result"
        }
      ],
      "source": [
        "diccionario"
      ]
    }
  ],
  "metadata": {
    "kernelspec": {
      "display_name": "Python 3",
      "language": "python",
      "name": "python3"
    },
    "language_info": {
      "codemirror_mode": {
        "name": "ipython",
        "version": 3
      },
      "file_extension": ".py",
      "mimetype": "text/x-python",
      "name": "python",
      "nbconvert_exporter": "python",
      "pygments_lexer": "ipython3",
      "version": "3.8.3"
    },
    "colab": {
      "provenance": [],
      "include_colab_link": true
    }
  },
  "nbformat": 4,
  "nbformat_minor": 5
}