{
  "cells": [
    {
      "cell_type": "markdown",
      "metadata": {
        "id": "view-in-github",
        "colab_type": "text"
      },
      "source": [
        "<a href=\"https://colab.research.google.com/github/XJTellez/Basic-Python/blob/main/Tipos_primitivos_y_fechas.ipynb\" target=\"_parent\"><img src=\"https://colab.research.google.com/assets/colab-badge.svg\" alt=\"Open In Colab\"/></a>"
      ]
    },
    {
      "cell_type": "markdown",
      "id": "simplified-dancing",
      "metadata": {
        "id": "simplified-dancing"
      },
      "source": [
        "Teoría previa:  \n",
        "- Usos de Python\n",
        "- Funciones\n",
        "- Objetos, métodos y atributos\n",
        "- Python vainilla (built-in)\n",
        "- Python y sus librerías\n",
        "- Jupyter"
      ]
    },
    {
      "cell_type": "markdown",
      "id": "legal-memphis",
      "metadata": {
        "id": "legal-memphis"
      },
      "source": [
        "# Tipos primitivos \n",
        "**Parte I: Tipos primitivos**\n",
        "1. Int\n",
        "2. Float\n",
        "3. Boolean\n",
        "4. Str  \n",
        "**Parte II: Fechas**\n",
        "1. Date\n",
        "2. Time\n",
        "3. Datetime"
      ]
    },
    {
      "cell_type": "markdown",
      "id": "applicable-celebrity",
      "metadata": {
        "id": "applicable-celebrity"
      },
      "source": [
        "# Parte I: Tipos Primitivos"
      ]
    },
    {
      "cell_type": "markdown",
      "id": "african-cream",
      "metadata": {
        "id": "african-cream"
      },
      "source": [
        "## 1.1 Int"
      ]
    },
    {
      "cell_type": "markdown",
      "id": "subtle-tolerance",
      "metadata": {
        "id": "subtle-tolerance"
      },
      "source": [
        "- **Operaciones**\n",
        "    - Suma\n",
        "        - +\n",
        "    - Resta\n",
        "        - -\n",
        "    - Multiplicación\n",
        "        - *\n",
        "    - Potencias\n",
        "        - **\n",
        "- **Comparaciones**\n",
        "    - Igual\n",
        "        - ==\n",
        "    - Mayor o igual\n",
        "        - \\>=\n",
        "    - Menor o igual\n",
        "        - \\<=\n",
        "    - Mayor\n",
        "        - \\>\n",
        "    - Menor\n",
        "        - \\<\n",
        "- **Funciones y métodos útiles**\n",
        "    - is_integer()"
      ]
    },
    {
      "cell_type": "markdown",
      "id": "continuous-straight",
      "metadata": {
        "id": "continuous-straight"
      },
      "source": [
        "Empezamos escribiendo sólo un número y ejectuando la celda (shift+enter o ctrl+enter)"
      ]
    },
    {
      "cell_type": "code",
      "execution_count": null,
      "id": "prescribed-thirty",
      "metadata": {
        "id": "prescribed-thirty",
        "outputId": "1782a7f3-b175-4e3b-bea7-bb370aaa5726"
      },
      "outputs": [
        {
          "data": {
            "text/plain": [
              "3"
            ]
          },
          "execution_count": 1,
          "metadata": {},
          "output_type": "execute_result"
        }
      ],
      "source": [
        "3"
      ]
    },
    {
      "cell_type": "markdown",
      "id": "important-persian",
      "metadata": {
        "id": "important-persian"
      },
      "source": [
        "Vemos que no ocurre nada especial. Sólo se despliega un número."
      ]
    },
    {
      "cell_type": "markdown",
      "id": "durable-ceramic",
      "metadata": {
        "id": "durable-ceramic"
      },
      "source": [
        "Ahora suma dos números."
      ]
    },
    {
      "cell_type": "code",
      "execution_count": null,
      "id": "happy-removal",
      "metadata": {
        "id": "happy-removal",
        "outputId": "e247fa9f-b01c-4fd9-c85c-ca6b0cc43cb5"
      },
      "outputs": [
        {
          "data": {
            "text/plain": [
              "2"
            ]
          },
          "execution_count": 2,
          "metadata": {},
          "output_type": "execute_result"
        }
      ],
      "source": [
        "1 + 1"
      ]
    },
    {
      "cell_type": "markdown",
      "id": "specified-chart",
      "metadata": {
        "id": "specified-chart"
      },
      "source": [
        "Python realiza una operación de suma sin problemas."
      ]
    },
    {
      "cell_type": "markdown",
      "id": "combined-material",
      "metadata": {
        "id": "combined-material"
      },
      "source": [
        "Los resultados pueden dar números negativos!"
      ]
    },
    {
      "cell_type": "code",
      "execution_count": null,
      "id": "graduate-spelling",
      "metadata": {
        "id": "graduate-spelling",
        "outputId": "04e5e655-3b26-4b27-fa78-b100b243882d"
      },
      "outputs": [
        {
          "data": {
            "text/plain": [
              "-1"
            ]
          },
          "execution_count": 3,
          "metadata": {},
          "output_type": "execute_result"
        }
      ],
      "source": [
        "3 - 4"
      ]
    },
    {
      "cell_type": "markdown",
      "id": "durable-beast",
      "metadata": {
        "id": "durable-beast"
      },
      "source": [
        "Siempre podemos usar la función type() para revisar el tipo de objeto con el que estamos trabajando"
      ]
    },
    {
      "cell_type": "code",
      "execution_count": null,
      "id": "developed-fields",
      "metadata": {
        "id": "developed-fields",
        "outputId": "ee7c36e6-bcd1-46bf-ffb5-8690040cfd88"
      },
      "outputs": [
        {
          "data": {
            "text/plain": [
              "int"
            ]
          },
          "execution_count": 4,
          "metadata": {},
          "output_type": "execute_result"
        }
      ],
      "source": [
        "type(2)"
      ]
    },
    {
      "cell_type": "markdown",
      "id": "american-citation",
      "metadata": {
        "id": "american-citation"
      },
      "source": [
        "Ahora podemos asignar números a variables"
      ]
    },
    {
      "cell_type": "code",
      "execution_count": null,
      "id": "atomic-syndrome",
      "metadata": {
        "id": "atomic-syndrome"
      },
      "outputs": [],
      "source": [
        "un_numero = 150\n",
        "otro_numero = 42"
      ]
    },
    {
      "cell_type": "code",
      "execution_count": null,
      "id": "exciting-hudson",
      "metadata": {
        "id": "exciting-hudson",
        "outputId": "7ac719ad-6a01-420b-b774-d7cabd2a9b40"
      },
      "outputs": [
        {
          "data": {
            "text/plain": [
              "192"
            ]
          },
          "execution_count": 6,
          "metadata": {},
          "output_type": "execute_result"
        }
      ],
      "source": [
        "un_numero + otro_numero"
      ]
    },
    {
      "cell_type": "markdown",
      "id": "geological-disposal",
      "metadata": {
        "id": "geological-disposal"
      },
      "source": [
        "Excelente!"
      ]
    },
    {
      "cell_type": "markdown",
      "id": "ancient-renaissance",
      "metadata": {
        "id": "ancient-renaissance"
      },
      "source": [
        "Además podemos correr algunas comparaciones simples entre dos números"
      ]
    },
    {
      "cell_type": "code",
      "execution_count": null,
      "id": "registered-transformation",
      "metadata": {
        "id": "registered-transformation",
        "outputId": "e9595f21-c1ae-4356-e7e1-0a7a6045d7c1"
      },
      "outputs": [
        {
          "data": {
            "text/plain": [
              "False"
            ]
          },
          "execution_count": 7,
          "metadata": {},
          "output_type": "execute_result"
        }
      ],
      "source": [
        "# Es tres MAYOR que 4?\n",
        "3 > 4"
      ]
    },
    {
      "cell_type": "code",
      "execution_count": null,
      "id": "frank-saying",
      "metadata": {
        "id": "frank-saying",
        "outputId": "6603cf0c-10e3-441d-d1cd-53f9bde1205e"
      },
      "outputs": [
        {
          "data": {
            "text/plain": [
              "True"
            ]
          },
          "execution_count": 8,
          "metadata": {},
          "output_type": "execute_result"
        }
      ],
      "source": [
        "# Es un_numero MAYOR que otro_numero\n",
        "un_numero > otro_numero"
      ]
    },
    {
      "cell_type": "markdown",
      "id": "spatial-liberia",
      "metadata": {
        "id": "spatial-liberia"
      },
      "source": [
        "**Ejercicios:**"
      ]
    },
    {
      "cell_type": "markdown",
      "id": "accepting-namibia",
      "metadata": {
        "id": "accepting-namibia"
      },
      "source": [
        "**1.-** Guarda el número 50 en una variable"
      ]
    },
    {
      "cell_type": "code",
      "execution_count": null,
      "id": "controversial-swift",
      "metadata": {
        "id": "controversial-swift"
      },
      "outputs": [],
      "source": [
        "variable = 50"
      ]
    },
    {
      "cell_type": "markdown",
      "id": "pointed-manual",
      "metadata": {
        "id": "pointed-manual"
      },
      "source": [
        "**2.-** Multiplica la variable que creaste en el paso anterior por 2 y guárdalo en una nueva variable"
      ]
    },
    {
      "cell_type": "code",
      "execution_count": null,
      "id": "understood-native",
      "metadata": {
        "id": "understood-native"
      },
      "outputs": [],
      "source": [
        "variable_nueva = variable * 2"
      ]
    },
    {
      "cell_type": "markdown",
      "id": "macro-cartridge",
      "metadata": {
        "id": "macro-cartridge"
      },
      "source": [
        "**3.-** Eleva el resultado del paso anterior al cuadrado"
      ]
    },
    {
      "cell_type": "code",
      "execution_count": null,
      "id": "aboriginal-assets",
      "metadata": {
        "id": "aboriginal-assets",
        "outputId": "b2a9fcea-599a-424e-f47a-fd3179bc9739"
      },
      "outputs": [
        {
          "data": {
            "text/plain": [
              "10000"
            ]
          },
          "execution_count": 12,
          "metadata": {},
          "output_type": "execute_result"
        }
      ],
      "source": [
        "variable_nueva**2"
      ]
    },
    {
      "cell_type": "markdown",
      "id": "according-salvation",
      "metadata": {
        "id": "according-salvation"
      },
      "source": [
        "## 1.2 Float"
      ]
    },
    {
      "cell_type": "markdown",
      "id": "educational-victory",
      "metadata": {
        "id": "educational-victory"
      },
      "source": [
        "- **Operaciones**\n",
        "    - Suma\n",
        "        - +\n",
        "    - Resta\n",
        "        - -\n",
        "    - Multiplicación\n",
        "        - *\n",
        "    - División\n",
        "        - /\n",
        "    - Módulo\n",
        "        - %\n",
        "    - Potencias\n",
        "        - **\n",
        "- **Comparaciones**\n",
        "    - Igual\n",
        "        - ==\n",
        "    - Mayor o igual\n",
        "        - \\>=\n",
        "    - Menor o igual\n",
        "        - \\<=\n",
        "    - Mayor\n",
        "        - \\>\n",
        "    - Menor\n",
        "        - \\<\n",
        "- **Funciones y métodos útiles**\n",
        "    - round()\n",
        "    - int()"
      ]
    },
    {
      "cell_type": "markdown",
      "id": "affected-multimedia",
      "metadata": {
        "id": "affected-multimedia"
      },
      "source": [
        "Puedes hacer, generalmente hablando, las mismas operaciones en int y float. La diferencia es que un float tiene decimales (aunque todos sean 0)"
      ]
    },
    {
      "cell_type": "code",
      "execution_count": null,
      "id": "essential-sterling",
      "metadata": {
        "id": "essential-sterling",
        "outputId": "d8ddea6e-8c3b-4b84-9f85-7f7dc505009f"
      },
      "outputs": [
        {
          "data": {
            "text/plain": [
              "int"
            ]
          },
          "execution_count": 9,
          "metadata": {},
          "output_type": "execute_result"
        }
      ],
      "source": [
        "type(1)"
      ]
    },
    {
      "cell_type": "code",
      "execution_count": null,
      "id": "blank-newcastle",
      "metadata": {
        "id": "blank-newcastle",
        "outputId": "9507b81e-d592-4033-9665-0f96152b1c83"
      },
      "outputs": [
        {
          "data": {
            "text/plain": [
              "float"
            ]
          },
          "execution_count": 10,
          "metadata": {},
          "output_type": "execute_result"
        }
      ],
      "source": [
        "type(1.0)"
      ]
    },
    {
      "cell_type": "markdown",
      "id": "olive-lunch",
      "metadata": {
        "id": "olive-lunch"
      },
      "source": [
        "**Ejercicios:**"
      ]
    },
    {
      "cell_type": "markdown",
      "id": "wicked-credits",
      "metadata": {
        "id": "wicked-credits"
      },
      "source": [
        "**1.-** Guarda el número 22 en una variable y checa su tipo."
      ]
    },
    {
      "cell_type": "code",
      "execution_count": null,
      "id": "current-choice",
      "metadata": {
        "id": "current-choice",
        "outputId": "871a3538-4a66-4d04-c9aa-69f0197da173"
      },
      "outputs": [
        {
          "data": {
            "text/plain": [
              "int"
            ]
          },
          "execution_count": 14,
          "metadata": {},
          "output_type": "execute_result"
        }
      ],
      "source": [
        "variable = 22\n",
        "type(variable)"
      ]
    },
    {
      "cell_type": "markdown",
      "id": "molecular-average",
      "metadata": {
        "id": "molecular-average"
      },
      "source": [
        "**2.-** Divide esa variable entre 7 y sobreescríbela. Checa el tipo de variable."
      ]
    },
    {
      "cell_type": "code",
      "execution_count": null,
      "id": "agricultural-russia",
      "metadata": {
        "id": "agricultural-russia",
        "outputId": "c27a9c49-8038-4d1c-9713-19df81676f51"
      },
      "outputs": [
        {
          "data": {
            "text/plain": [
              "float"
            ]
          },
          "execution_count": 15,
          "metadata": {},
          "output_type": "execute_result"
        }
      ],
      "source": [
        "variable = variable / 7\n",
        "type(variable)"
      ]
    },
    {
      "cell_type": "markdown",
      "id": "dutch-clause",
      "metadata": {
        "id": "dutch-clause"
      },
      "source": [
        "**3.-** Usando round() redondea tu variable a 2 decimales y sobreescríbela."
      ]
    },
    {
      "cell_type": "code",
      "execution_count": null,
      "id": "reverse-bathroom",
      "metadata": {
        "id": "reverse-bathroom",
        "outputId": "1b28f68a-52ff-4896-928a-e6017037bb4a"
      },
      "outputs": [
        {
          "data": {
            "text/plain": [
              "3.14"
            ]
          },
          "execution_count": 17,
          "metadata": {},
          "output_type": "execute_result"
        }
      ],
      "source": [
        "variable = round(variable,2)\n",
        "variable"
      ]
    },
    {
      "cell_type": "markdown",
      "id": "coupled-intersection",
      "metadata": {
        "id": "coupled-intersection"
      },
      "source": [
        "**4.-** Utiliza la librería math para obtener la raíz cuadrada de tu variable.  \n",
        "(Puedes revisar la documentación aquí: https://docs.python.org/3/library/math.html)"
      ]
    },
    {
      "cell_type": "code",
      "execution_count": null,
      "id": "gentle-portal",
      "metadata": {
        "id": "gentle-portal",
        "outputId": "48f1b47c-1b97-4447-a46a-7000692d2865"
      },
      "outputs": [
        {
          "data": {
            "text/plain": [
              "1.772004514666935"
            ]
          },
          "execution_count": 18,
          "metadata": {},
          "output_type": "execute_result"
        }
      ],
      "source": [
        "import math\n",
        "math.sqrt(variable)"
      ]
    },
    {
      "cell_type": "markdown",
      "id": "nominated-intervention",
      "metadata": {
        "id": "nominated-intervention"
      },
      "source": [
        "## 1.3 Boolean"
      ]
    },
    {
      "cell_type": "markdown",
      "id": "regulation-billy",
      "metadata": {
        "id": "regulation-billy"
      },
      "source": [
        "- and\n",
        "- or\n",
        "- Algunas operaciones aritméticas"
      ]
    },
    {
      "cell_type": "code",
      "execution_count": null,
      "id": "restricted-procurement",
      "metadata": {
        "id": "restricted-procurement",
        "outputId": "6ab141b5-e891-4453-9dea-5d83fdc8947f"
      },
      "outputs": [
        {
          "data": {
            "text/plain": [
              "bool"
            ]
          },
          "execution_count": 19,
          "metadata": {},
          "output_type": "execute_result"
        }
      ],
      "source": [
        "type(True) "
      ]
    },
    {
      "cell_type": "code",
      "execution_count": null,
      "id": "delayed-performance",
      "metadata": {
        "id": "delayed-performance",
        "outputId": "e892a7be-4875-43e0-d03b-163db1ac3ce3"
      },
      "outputs": [
        {
          "data": {
            "text/plain": [
              "bool"
            ]
          },
          "execution_count": 20,
          "metadata": {},
          "output_type": "execute_result"
        }
      ],
      "source": [
        "type(False)"
      ]
    },
    {
      "cell_type": "code",
      "execution_count": null,
      "id": "delayed-sweet",
      "metadata": {
        "id": "delayed-sweet",
        "outputId": "944cf1b6-b968-4e63-eaea-77791730174b"
      },
      "outputs": [
        {
          "data": {
            "text/plain": [
              "True"
            ]
          },
          "execution_count": 21,
          "metadata": {},
          "output_type": "execute_result"
        }
      ],
      "source": [
        "True and True"
      ]
    },
    {
      "cell_type": "code",
      "execution_count": null,
      "id": "novel-devon",
      "metadata": {
        "id": "novel-devon",
        "outputId": "cd13595a-15dd-4fc1-e257-494e3c642003"
      },
      "outputs": [
        {
          "data": {
            "text/plain": [
              "False"
            ]
          },
          "execution_count": 22,
          "metadata": {},
          "output_type": "execute_result"
        }
      ],
      "source": [
        "True and False"
      ]
    },
    {
      "cell_type": "code",
      "execution_count": null,
      "id": "exact-salvation",
      "metadata": {
        "id": "exact-salvation",
        "outputId": "ddc44017-7722-49d6-fe88-7155317228e5"
      },
      "outputs": [
        {
          "data": {
            "text/plain": [
              "True"
            ]
          },
          "execution_count": 23,
          "metadata": {},
          "output_type": "execute_result"
        }
      ],
      "source": [
        "True or True"
      ]
    },
    {
      "cell_type": "code",
      "execution_count": null,
      "id": "religious-commission",
      "metadata": {
        "id": "religious-commission",
        "outputId": "8636bf48-4793-4a99-f161-fd9bbf1fba67"
      },
      "outputs": [
        {
          "data": {
            "text/plain": [
              "True"
            ]
          },
          "execution_count": 24,
          "metadata": {},
          "output_type": "execute_result"
        }
      ],
      "source": [
        "True or False"
      ]
    },
    {
      "cell_type": "code",
      "execution_count": null,
      "id": "allied-thermal",
      "metadata": {
        "id": "allied-thermal",
        "outputId": "97a3c21c-61d7-4a43-a99d-c76f5aeb457e"
      },
      "outputs": [
        {
          "data": {
            "text/plain": [
              "2"
            ]
          },
          "execution_count": 25,
          "metadata": {},
          "output_type": "execute_result"
        }
      ],
      "source": [
        "True + True"
      ]
    },
    {
      "cell_type": "code",
      "execution_count": null,
      "id": "outdoor-punch",
      "metadata": {
        "id": "outdoor-punch",
        "outputId": "8c9927d2-a195-441b-e911-486a1419dad0"
      },
      "outputs": [
        {
          "data": {
            "text/plain": [
              "1"
            ]
          },
          "execution_count": 26,
          "metadata": {},
          "output_type": "execute_result"
        }
      ],
      "source": [
        "True + False"
      ]
    },
    {
      "cell_type": "code",
      "execution_count": null,
      "id": "about-edition",
      "metadata": {
        "id": "about-edition",
        "outputId": "49c54965-04de-47c7-be92-39672af8da9f"
      },
      "outputs": [
        {
          "data": {
            "text/plain": [
              "-1"
            ]
          },
          "execution_count": 27,
          "metadata": {},
          "output_type": "execute_result"
        }
      ],
      "source": [
        "True - True - True"
      ]
    },
    {
      "cell_type": "markdown",
      "id": "capable-legislation",
      "metadata": {
        "id": "capable-legislation"
      },
      "source": [
        "## 1.4 Str"
      ]
    },
    {
      "cell_type": "markdown",
      "id": "imported-background",
      "metadata": {
        "id": "imported-background"
      },
      "source": [
        "- **Operaciones**\n",
        "    - Suma (concatenación)\n",
        "        - +\n",
        "- **Slicing**\n",
        "    - En un caracter específico\n",
        "    - Entre dos caracteres\n",
        "    - Del inicio a una posición\n",
        "    - De una posición hasta el fin\n",
        "    - De atrás para adelante\n",
        "- **Métodos y funciones**\n",
        "    - **len(str)**\n",
        "        - Número de caracteres\n",
        "    - **print(str)**\n",
        "        - Interpreta los caracteres especiales\n",
        "    - **str in str**\n",
        "        - Determina si un str contiene un str\n",
        "    - **str.split()**\n",
        "        - Lo usaremos hasta mañana!\n",
        "        - Separa el string en el punto indicado\n",
        "    - **str.replace()**\n",
        "        - Reemplaza un pedazo del str\n",
        "    - **str.join()**\n",
        "        - Inserta un separador entre cada caracter\n",
        "    - **str.strip()**\n",
        "        - Quita espacios en blanco a la izquierda y derecha\n",
        "    - **str.capitalize()**\n",
        "        - Mayúscula en el primer caracter minúscula en el resto\n",
        "    - **str.upper()**\n",
        "        - Todo el str en mayúsculas\n",
        "    - **str.lower()**\n",
        "        - Todo el str en minúsculas\n",
        "    - **str.count()**\n",
        "        - Cuenta el número de veces que algo se repite\n",
        "    - **str.format()**\n",
        "        - Permite modificar el str con variables\n",
        "\n",
        "    "
      ]
    },
    {
      "cell_type": "markdown",
      "id": "satisfactory-housing",
      "metadata": {
        "id": "satisfactory-housing"
      },
      "source": [
        "### Básicos de un string"
      ]
    },
    {
      "cell_type": "code",
      "execution_count": null,
      "id": "directed-liver",
      "metadata": {
        "id": "directed-liver",
        "outputId": "317a74b4-faaa-4078-e4d1-6af4453c0844"
      },
      "outputs": [
        {
          "data": {
            "text/plain": [
              "str"
            ]
          },
          "execution_count": 28,
          "metadata": {},
          "output_type": "execute_result"
        }
      ],
      "source": [
        "type('esto es un string')"
      ]
    },
    {
      "cell_type": "code",
      "execution_count": null,
      "id": "appointed-conviction",
      "metadata": {
        "id": "appointed-conviction",
        "outputId": "ccfc6037-d326-4f90-9dfa-bd041f2de434"
      },
      "outputs": [
        {
          "data": {
            "text/plain": [
              "'Un string requiere de comillas simples, o dobles'"
            ]
          },
          "execution_count": 29,
          "metadata": {},
          "output_type": "execute_result"
        }
      ],
      "source": [
        "'Un string requiere de comillas simples, o dobles'"
      ]
    },
    {
      "cell_type": "code",
      "execution_count": null,
      "id": "higher-insulin",
      "metadata": {
        "id": "higher-insulin",
        "outputId": "ff6e48d5-f9fb-42ee-e5e8-07af509ecef3"
      },
      "outputs": [
        {
          "data": {
            "text/plain": [
              "\"Si dentro de tu sting planas usar ' vas a necesitar comillas dobles\""
            ]
          },
          "execution_count": 30,
          "metadata": {},
          "output_type": "execute_result"
        }
      ],
      "source": [
        "\"Si dentro de tu sting planas usar ' vas a necesitar comillas dobles\""
      ]
    },
    {
      "cell_type": "code",
      "execution_count": null,
      "id": "compressed-scheme",
      "metadata": {
        "id": "compressed-scheme",
        "outputId": "a5d6309e-321d-45a7-ae69-15d05b406bf1"
      },
      "outputs": [
        {
          "data": {
            "text/plain": [
              "'Si vas a usar comillas dobles\"\" vas a necesitar triples'"
            ]
          },
          "execution_count": 31,
          "metadata": {},
          "output_type": "execute_result"
        }
      ],
      "source": [
        "'''Si vas a usar comillas dobles\"\" vas a necesitar triples'''"
      ]
    },
    {
      "cell_type": "code",
      "execution_count": null,
      "id": "dated-universal",
      "metadata": {
        "id": "dated-universal",
        "outputId": "6f0da19d-64bb-481b-d899-63e4c9e654c9"
      },
      "outputs": [
        {
          "data": {
            "text/plain": [
              "'Un string puede contener caracteres de escape\\ncomoesto'"
            ]
          },
          "execution_count": 32,
          "metadata": {},
          "output_type": "execute_result"
        }
      ],
      "source": [
        "'Un string puede contener caracteres de escape\\ncomoesto'"
      ]
    },
    {
      "cell_type": "code",
      "execution_count": null,
      "id": "dedicated-silence",
      "metadata": {
        "id": "dedicated-silence",
        "outputId": "f8a3e496-409f-443e-963f-e8bb5a1da5c3"
      },
      "outputs": [
        {
          "name": "stdout",
          "output_type": "stream",
          "text": [
            "Un string puede contener caracteres de escape\n",
            "comoesto\n"
          ]
        }
      ],
      "source": [
        "print('Un string puede contener caracteres de escape\\ncomoesto')"
      ]
    },
    {
      "cell_type": "markdown",
      "id": "buried-weather",
      "metadata": {
        "id": "buried-weather"
      },
      "source": [
        "\\n (nueva línea) y \\t (tab) son caracteres de escape importantes"
      ]
    },
    {
      "cell_type": "markdown",
      "id": "commercial-cache",
      "metadata": {
        "id": "commercial-cache"
      },
      "source": [
        "### Slicing de un string"
      ]
    },
    {
      "cell_type": "code",
      "execution_count": null,
      "id": "waiting-bowling",
      "metadata": {
        "id": "waiting-bowling"
      },
      "outputs": [],
      "source": [
        "x = 'Hola mundo!'"
      ]
    },
    {
      "cell_type": "markdown",
      "id": "wireless-portuguese",
      "metadata": {
        "id": "wireless-portuguese"
      },
      "source": [
        "Podemos hacer **slicing** para seleccionar alguna sección en particular de nuestro string"
      ]
    },
    {
      "cell_type": "code",
      "execution_count": null,
      "id": "elect-schema",
      "metadata": {
        "id": "elect-schema",
        "outputId": "43853fd3-7cc8-476b-ee0e-022ca1f4878a"
      },
      "outputs": [
        {
          "data": {
            "text/plain": [
              "'H'"
            ]
          },
          "execution_count": 35,
          "metadata": {},
          "output_type": "execute_result"
        }
      ],
      "source": [
        "# Un punto en particular\n",
        "x[0]"
      ]
    },
    {
      "cell_type": "code",
      "execution_count": null,
      "id": "metallic-reason",
      "metadata": {
        "id": "metallic-reason",
        "outputId": "b2424305-6f74-439a-f90e-96c19c9af0c8"
      },
      "outputs": [
        {
          "data": {
            "text/plain": [
              "'Hola '"
            ]
          },
          "execution_count": 36,
          "metadata": {},
          "output_type": "execute_result"
        }
      ],
      "source": [
        "# Entre dos posiciones\n",
        "x[0:5]"
      ]
    },
    {
      "cell_type": "code",
      "execution_count": null,
      "id": "removed-yugoslavia",
      "metadata": {
        "id": "removed-yugoslavia",
        "outputId": "200bbee9-7d16-48f4-8560-d4de564e1e22"
      },
      "outputs": [
        {
          "data": {
            "text/plain": [
              "'Hola mu'"
            ]
          },
          "execution_count": 37,
          "metadata": {},
          "output_type": "execute_result"
        }
      ],
      "source": [
        "# Del inicio a una posición\n",
        "x[:7]"
      ]
    },
    {
      "cell_type": "code",
      "execution_count": null,
      "id": "adaptive-frontier",
      "metadata": {
        "id": "adaptive-frontier",
        "outputId": "34c373cf-9801-4fa1-d8c8-6f139209cc5a"
      },
      "outputs": [
        {
          "data": {
            "text/plain": [
              "'ndo!'"
            ]
          },
          "execution_count": 38,
          "metadata": {},
          "output_type": "execute_result"
        }
      ],
      "source": [
        "# De una posición hasta el fin\n",
        "x[7:]"
      ]
    },
    {
      "cell_type": "code",
      "execution_count": null,
      "id": "arabic-cargo",
      "metadata": {
        "id": "arabic-cargo",
        "outputId": "0a01a8d7-73d2-4bdc-ef62-b142659af305"
      },
      "outputs": [
        {
          "data": {
            "text/plain": [
              "'!'"
            ]
          },
          "execution_count": 39,
          "metadata": {},
          "output_type": "execute_result"
        }
      ],
      "source": [
        "# De atrás para adelante\n",
        "x[-1]"
      ]
    },
    {
      "cell_type": "markdown",
      "id": "inner-battery",
      "metadata": {
        "id": "inner-battery"
      },
      "source": [
        "### Ejercicios"
      ]
    },
    {
      "cell_type": "markdown",
      "id": "paperback-lease",
      "metadata": {
        "id": "paperback-lease"
      },
      "source": [
        "**1.-** Guarda tu nombre en una variable "
      ]
    },
    {
      "cell_type": "code",
      "execution_count": null,
      "id": "outer-residence",
      "metadata": {
        "id": "outer-residence"
      },
      "outputs": [],
      "source": [
        "variable = 'Gabriel Ambriz'"
      ]
    },
    {
      "cell_type": "markdown",
      "id": "exposed-audience",
      "metadata": {
        "id": "exposed-audience"
      },
      "source": [
        "**2.-** Aplica el método correcto para covertir tu nombre a sólo mayúsculas"
      ]
    },
    {
      "cell_type": "code",
      "execution_count": null,
      "id": "caroline-traffic",
      "metadata": {
        "id": "caroline-traffic",
        "outputId": "f2d63409-e15e-46f7-b382-1749d6d1beed"
      },
      "outputs": [
        {
          "data": {
            "text/plain": [
              "'GABRIEL AMBRIZ'"
            ]
          },
          "execution_count": 41,
          "metadata": {},
          "output_type": "execute_result"
        }
      ],
      "source": [
        "variable.upper()"
      ]
    },
    {
      "cell_type": "markdown",
      "id": "august-petroleum",
      "metadata": {
        "id": "august-petroleum"
      },
      "source": [
        "**3.-** Ahora sólo minúsculas"
      ]
    },
    {
      "cell_type": "code",
      "execution_count": null,
      "id": "optimum-people",
      "metadata": {
        "id": "optimum-people",
        "outputId": "7bc506ed-3ec1-4d3c-8efa-d02f510738fd"
      },
      "outputs": [
        {
          "data": {
            "text/plain": [
              "'gabriel ambriz'"
            ]
          },
          "execution_count": 42,
          "metadata": {},
          "output_type": "execute_result"
        }
      ],
      "source": [
        "variable.lower()"
      ]
    },
    {
      "cell_type": "markdown",
      "id": "focal-muslim",
      "metadata": {
        "id": "focal-muslim"
      },
      "source": [
        "**4.-** Agrega 'Ventures' al siguiente string utilizando el operador +"
      ]
    },
    {
      "cell_type": "code",
      "execution_count": null,
      "id": "tough-buddy",
      "metadata": {
        "id": "tough-buddy"
      },
      "outputs": [],
      "source": [
        "ejemplo = 'CeroUno'"
      ]
    },
    {
      "cell_type": "code",
      "execution_count": null,
      "id": "alien-corruption",
      "metadata": {
        "id": "alien-corruption",
        "outputId": "0fe1e429-ae20-4838-a5bd-9de1db7380a1"
      },
      "outputs": [
        {
          "data": {
            "text/plain": [
              "'CeroUno Ventures'"
            ]
          },
          "execution_count": 44,
          "metadata": {},
          "output_type": "execute_result"
        }
      ],
      "source": [
        "ejemplo + ' Ventures'"
      ]
    },
    {
      "cell_type": "markdown",
      "id": "original-placement",
      "metadata": {
        "id": "original-placement"
      },
      "source": [
        "**5.-** Sobreescribe esta variable tal que no haya espacios en blanco antes de los caracteres relevantes."
      ]
    },
    {
      "cell_type": "code",
      "execution_count": null,
      "id": "conventional-updating",
      "metadata": {
        "id": "conventional-updating"
      },
      "outputs": [],
      "source": [
        "ejemplo = '     hay muchos espacios en blanco '"
      ]
    },
    {
      "cell_type": "code",
      "execution_count": null,
      "id": "threatened-thesaurus",
      "metadata": {
        "id": "threatened-thesaurus",
        "outputId": "c95a9ba7-5bd4-4398-e050-96a5d2d3dee6"
      },
      "outputs": [
        {
          "data": {
            "text/plain": [
              "'hay muchos espacios en blanco'"
            ]
          },
          "execution_count": 46,
          "metadata": {},
          "output_type": "execute_result"
        }
      ],
      "source": [
        "ejemplo.strip()"
      ]
    },
    {
      "cell_type": "markdown",
      "id": "educational-newport",
      "metadata": {
        "id": "educational-newport"
      },
      "source": [
        "**6.-** Del siguiente string:  \n",
        "- Determina el número de caracteres\n",
        "- Determina si la palabra asteroide se menciona\n",
        "- Determina cuántas veces se menciona la palabra asteroide\n",
        "- Reemplaza todas las instancias de asteroide con meteorito\n",
        "- En qué posición se encuentra el string FO32\n",
        "- Extrae la siguiente frase del ejemplo: Se trata del asteroide que fue bautizado como 2001 FO32 **usando slices**"
      ]
    },
    {
      "cell_type": "code",
      "execution_count": null,
      "id": "boring-spring",
      "metadata": {
        "id": "boring-spring"
      },
      "outputs": [],
      "source": [
        "ejemplo = '''Se trata del asteroide que fue bautizado como 2001 FO32', el cual tiene entre 440 y 680 metros de diámetro, comparable al tamaño del puente Golden Gate en San Francisco, EUA. \n",
        "Pasará a más de 124 mil kilómetros por hora, una velocidad más alta de la usual en la mayoría de astros que se acercan al planeta Tierra. \n",
        "El acercamiento de este asteroide a la Tierra permitirá a los astrónomos estudiar de manera más precisa el tamaño y el brillo de su superficie así como otros elementos que les permitirán comprender mejor la composición del cuerpo celeste.\n",
        "A pesar de su gran dimensión y velocidad no debes preocuparte porque la Administración Nacional de Aeronáutica y el Espacio (NASA) confirmó que el paso del asteroide no representa peligro para la Tierra ni sus habitantes. \n",
        "Conocemos la trayectoria orbital del ‘2001 FO32' alrededor del Sol con mucha precisión desde que fue descubierto hace 20 años, y ha sido rastreado desde entonces.\n",
        "Después de que el asteroide se encuentre en su punto más cercano con la Tierra, continuará su trayectoria y no volverá a acercarse hasta 2052. \n",
        "Para ese entonces se estima que pasará a 2.8 millones de kilómetros de la superficie terrestre, confirmó Paul Chodas, director del Centro de Estudios de Objetos Cercanos a la Tierra (NEO Studies) de la NASA.\n",
        "'''"
      ]
    },
    {
      "cell_type": "code",
      "execution_count": null,
      "id": "careful-george",
      "metadata": {
        "id": "careful-george",
        "outputId": "d3652b97-a345-4876-b278-df8cd97e99bc"
      },
      "outputs": [
        {
          "data": {
            "text/plain": [
              "1292"
            ]
          },
          "execution_count": 70,
          "metadata": {},
          "output_type": "execute_result"
        }
      ],
      "source": [
        "# Num caracteres\n",
        "len(ejemplo)"
      ]
    },
    {
      "cell_type": "code",
      "execution_count": null,
      "id": "advised-chosen",
      "metadata": {
        "id": "advised-chosen",
        "outputId": "e793a29f-bad0-4ccd-9cd6-c21225e269cd"
      },
      "outputs": [
        {
          "data": {
            "text/plain": [
              "True"
            ]
          },
          "execution_count": 71,
          "metadata": {},
          "output_type": "execute_result"
        }
      ],
      "source": [
        "# Se menciona asteroide?\n",
        "'asteroide' in ejemplo"
      ]
    },
    {
      "cell_type": "code",
      "execution_count": null,
      "id": "agreed-footwear",
      "metadata": {
        "id": "agreed-footwear",
        "outputId": "3ea346a7-5337-4e2a-f06e-4e9af24fa1dd"
      },
      "outputs": [
        {
          "data": {
            "text/plain": [
              "4"
            ]
          },
          "execution_count": 72,
          "metadata": {},
          "output_type": "execute_result"
        }
      ],
      "source": [
        "# Cuántas veces\n",
        "ejemplo.count('asteroide')"
      ]
    },
    {
      "cell_type": "code",
      "execution_count": null,
      "id": "laden-offering",
      "metadata": {
        "id": "laden-offering",
        "outputId": "67e5a8e4-87c8-41e2-a51e-a9197fcf4799"
      },
      "outputs": [
        {
          "name": "stdout",
          "output_type": "stream",
          "text": [
            "Se trata del meteorito que fue bautizado como 2001 FO32', el cual tiene entre 440 y 680 metros de diámetro, comparable al tamaño del puente Golden Gate en San Francisco, EUA. \n",
            "Pasará a más de 124 mil kilómetros por hora, una velocidad más alta de la usual en la mayoría de astros que se acercan al planeta Tierra. \n",
            "El acercamiento de este meteorito a la Tierra permitirá a los astrónomos estudiar de manera más precisa el tamaño y el brillo de su superficie así como otros elementos que les permitirán comprender mejor la composición del cuerpo celeste.\n",
            "A pesar de su gran dimensión y velocidad no debes preocuparte porque la Administración Nacional de Aeronáutica y el Espacio (NASA) confirmó que el paso del meteorito no representa peligro para la Tierra ni sus habitantes. \n",
            "Conocemos la trayectoria orbital del ‘2001 FO32' alrededor del Sol con mucha precisión desde que fue descubierto hace 20 años, y ha sido rastreado desde entonces.\n",
            "Después de que el meteorito se encuentre en su punto más cercano con la Tierra, continuará su trayectoria y no volverá a acercarse hasta 2052. \n",
            "Para ese entonces se estima que pasará a 2.8 millones de kilómetros de la superficie terrestre, confirmó Paul Chodas, director del Centro de Estudios de Objetos Cercanos a la Tierra (NEO Studies) de la NASA.\n",
            "\n"
          ]
        }
      ],
      "source": [
        "# Reemplaza\n",
        "print(ejemplo.replace('asteroide','meteorito'))"
      ]
    },
    {
      "cell_type": "code",
      "execution_count": null,
      "id": "finished-history",
      "metadata": {
        "id": "finished-history",
        "outputId": "51b5e7fb-3ce4-454d-dab0-92695315df80"
      },
      "outputs": [
        {
          "data": {
            "text/plain": [
              "51"
            ]
          },
          "execution_count": 74,
          "metadata": {},
          "output_type": "execute_result"
        }
      ],
      "source": [
        "# Posición\n",
        "ejemplo.index('FO32')"
      ]
    },
    {
      "cell_type": "code",
      "execution_count": null,
      "id": "canadian-mentor",
      "metadata": {
        "id": "canadian-mentor",
        "outputId": "c8d7a316-dcc9-4396-d2cd-fc59e1a8a0b8"
      },
      "outputs": [
        {
          "data": {
            "text/plain": [
              "'Se trata del asteroide que fue bautizado como 2001 FO32'"
            ]
          },
          "execution_count": 75,
          "metadata": {},
          "output_type": "execute_result"
        }
      ],
      "source": [
        "# Extra\n",
        "ejemplo[:55]"
      ]
    },
    {
      "cell_type": "markdown",
      "id": "abstract-mainland",
      "metadata": {
        "id": "abstract-mainland"
      },
      "source": [
        "# Parte II: Fechas\n"
      ]
    },
    {
      "cell_type": "code",
      "execution_count": null,
      "id": "preceding-panic",
      "metadata": {
        "id": "preceding-panic"
      },
      "outputs": [],
      "source": [
        "import datetime"
      ]
    },
    {
      "cell_type": "markdown",
      "id": "metric-retrieval",
      "metadata": {
        "id": "metric-retrieval"
      },
      "source": [
        "## 2.1 Date"
      ]
    },
    {
      "cell_type": "code",
      "execution_count": null,
      "id": "double-softball",
      "metadata": {
        "id": "double-softball"
      },
      "outputs": [],
      "source": [
        "from datetime import date"
      ]
    },
    {
      "cell_type": "markdown",
      "id": "effective-laptop",
      "metadata": {
        "id": "effective-laptop"
      },
      "source": [
        "- Operaciones\n",
        "    - Sumas\n",
        "        - +\n",
        "    - Restas\n",
        "        - -\n",
        "- Métodos\n",
        "    - **date.today()**\n",
        "    - **date.fromisoformat()**\n",
        "        - YYYY-MM-DD\n",
        "    - **date.isoformat()**\n",
        "    - **date.weekday()**\n",
        "    - **date.strftime()**\n",
        "        - https://strftime.org/\n",
        "- Atributos\n",
        "    - **date.year**\n",
        "    - **date.month**\n",
        "    - **date.day**\n",
        "    - **date.year**"
      ]
    },
    {
      "cell_type": "markdown",
      "id": "hydraulic-prize",
      "metadata": {
        "id": "hydraulic-prize"
      },
      "source": [
        "**1.-** Crea un objeto date para la fecha: 7 de octubre del '94"
      ]
    },
    {
      "cell_type": "code",
      "execution_count": null,
      "id": "nervous-compatibility",
      "metadata": {
        "id": "nervous-compatibility",
        "outputId": "979274b8-b73f-44cc-eeab-671af46274ad"
      },
      "outputs": [
        {
          "data": {
            "text/plain": [
              "datetime.date(1994, 10, 7)"
            ]
          },
          "execution_count": 84,
          "metadata": {},
          "output_type": "execute_result"
        }
      ],
      "source": [
        "date(1994,10,7)"
      ]
    },
    {
      "cell_type": "markdown",
      "id": "danish-heart",
      "metadata": {
        "id": "danish-heart"
      },
      "source": [
        "**2.-** Consigue la fecha de hoy en fromato datetime"
      ]
    },
    {
      "cell_type": "code",
      "execution_count": null,
      "id": "gothic-gospel",
      "metadata": {
        "id": "gothic-gospel",
        "outputId": "6e0b8d47-cc8d-4d06-9b4b-2ab810f668bb"
      },
      "outputs": [
        {
          "data": {
            "text/plain": [
              "datetime.date(2021, 3, 20)"
            ]
          },
          "execution_count": 86,
          "metadata": {},
          "output_type": "execute_result"
        }
      ],
      "source": [
        "date.today()"
      ]
    },
    {
      "cell_type": "markdown",
      "id": "equal-fifth",
      "metadata": {
        "id": "equal-fifth"
      },
      "source": [
        "**3.-** Muestra la fecha de hoy en formato iso."
      ]
    },
    {
      "cell_type": "code",
      "execution_count": null,
      "id": "taken-earth",
      "metadata": {
        "id": "taken-earth",
        "outputId": "60ecd588-917f-4973-d2d5-abd3c11693c6"
      },
      "outputs": [
        {
          "data": {
            "text/plain": [
              "'2021-03-20'"
            ]
          },
          "execution_count": 87,
          "metadata": {},
          "output_type": "execute_result"
        }
      ],
      "source": [
        "date.today().isoformat()"
      ]
    },
    {
      "cell_type": "markdown",
      "id": "amber-spiritual",
      "metadata": {
        "id": "amber-spiritual"
      },
      "source": [
        "**4.-** Muestra la fecha de hoy en un formato como el siguiente:  \n",
        "3 de Feb del 2021."
      ]
    },
    {
      "cell_type": "code",
      "execution_count": null,
      "id": "alpha-trading",
      "metadata": {
        "id": "alpha-trading",
        "outputId": "ff6aef49-9052-4518-f7f6-12a1591adc75"
      },
      "outputs": [
        {
          "data": {
            "text/plain": [
              "'20 de Mar del 2021'"
            ]
          },
          "execution_count": 88,
          "metadata": {},
          "output_type": "execute_result"
        }
      ],
      "source": [
        "date.today().strftime('%d de %b del %Y')"
      ]
    },
    {
      "cell_type": "markdown",
      "id": "internal-external",
      "metadata": {
        "id": "internal-external"
      },
      "source": [
        "## 2.2 Time"
      ]
    },
    {
      "cell_type": "code",
      "execution_count": null,
      "id": "crude-kruger",
      "metadata": {
        "id": "crude-kruger"
      },
      "outputs": [],
      "source": [
        "from datetime import time"
      ]
    },
    {
      "cell_type": "markdown",
      "id": "standard-vermont",
      "metadata": {
        "id": "standard-vermont"
      },
      "source": [
        "- Atributos\n",
        "    - **time.hour**\n",
        "    - **time.minute**\n",
        "    - **time.second**\n",
        "    - **time.microsecond**"
      ]
    },
    {
      "cell_type": "markdown",
      "id": "committed-treasurer",
      "metadata": {
        "id": "committed-treasurer"
      },
      "source": [
        "**1.-** Crea un objeto time con la siguiente hora:  \n",
        "14:40"
      ]
    },
    {
      "cell_type": "code",
      "execution_count": null,
      "id": "continued-latitude",
      "metadata": {
        "id": "continued-latitude",
        "outputId": "e044cf35-00fd-4ad7-b73b-71a34de72bae"
      },
      "outputs": [
        {
          "data": {
            "text/plain": [
              "datetime.time(14, 40)"
            ]
          },
          "execution_count": 91,
          "metadata": {},
          "output_type": "execute_result"
        }
      ],
      "source": [
        "time(14,40)"
      ]
    },
    {
      "cell_type": "markdown",
      "id": "relevant-smell",
      "metadata": {
        "id": "relevant-smell"
      },
      "source": [
        "## 2.3 Datetime"
      ]
    },
    {
      "cell_type": "code",
      "execution_count": null,
      "id": "communist-spring",
      "metadata": {
        "id": "communist-spring"
      },
      "outputs": [],
      "source": [
        "from datetime import datetime"
      ]
    },
    {
      "cell_type": "markdown",
      "id": "incorrect-atmosphere",
      "metadata": {
        "id": "incorrect-atmosphere"
      },
      "source": [
        "- Operaciones\n",
        "    - Sumas\n",
        "        - +\n",
        "    - Restas\n",
        "        - -\n",
        "- Métodos\n",
        "    - **datetime.now()**\n",
        "    - **datetime.today()**\n",
        "    - **datetime.fromisoformat()**\n",
        "        - YYYY-MM-DD\n",
        "    - **datetime.isoformat()**\n",
        "    - **datetime.weekday()**\n",
        "    - **datetime.strftime()** --> para imprimir datos\n",
        "        - https://strftime.org/\n",
        "    - **datetime.strptime()** --> para leer datos\n",
        "        - https://strftime.org/\n",
        "- Atributos\n",
        "    - **datetime.year**\n",
        "    - **datetime.month**\n",
        "    - **datetime.day**\n",
        "    - **datetime.year**\n",
        "    - **datetime.hour**\n",
        "    - **datetime.minute**\n",
        "    - **datetime.second**\n",
        "    - **datetime.microsecond**"
      ]
    },
    {
      "cell_type": "markdown",
      "id": "distributed-galaxy",
      "metadata": {
        "id": "distributed-galaxy"
      },
      "source": [
        "**1.-** Compara datetime now y datetime today"
      ]
    },
    {
      "cell_type": "code",
      "execution_count": null,
      "id": "trained-animation",
      "metadata": {
        "id": "trained-animation",
        "outputId": "4e256b1a-99ed-483c-aa1c-fa96bd9e3fb5"
      },
      "outputs": [
        {
          "data": {
            "text/plain": [
              "datetime.datetime(2021, 3, 20, 22, 54, 0, 692914)"
            ]
          },
          "execution_count": 94,
          "metadata": {},
          "output_type": "execute_result"
        }
      ],
      "source": [
        "datetime.now()"
      ]
    },
    {
      "cell_type": "code",
      "execution_count": null,
      "id": "removable-sport",
      "metadata": {
        "id": "removable-sport",
        "outputId": "6aff3cd5-3a0e-45c4-cd07-86b4702429b0"
      },
      "outputs": [
        {
          "data": {
            "text/plain": [
              "datetime.datetime(2021, 3, 20, 22, 54, 5, 730794)"
            ]
          },
          "execution_count": 95,
          "metadata": {},
          "output_type": "execute_result"
        }
      ],
      "source": [
        "datetime.today()"
      ]
    },
    {
      "cell_type": "markdown",
      "id": "adjusted-prague",
      "metadata": {
        "id": "adjusted-prague"
      },
      "source": [
        "**2.-** Lee el siguiente string como un datetime"
      ]
    },
    {
      "cell_type": "code",
      "execution_count": null,
      "id": "killing-lotus",
      "metadata": {
        "id": "killing-lotus"
      },
      "outputs": [],
      "source": [
        "ejemplo = '2021//03//25 09:10 '"
      ]
    },
    {
      "cell_type": "code",
      "execution_count": null,
      "id": "senior-milan",
      "metadata": {
        "id": "senior-milan",
        "outputId": "193e68c0-bb45-468e-985c-09fd808c5e0b"
      },
      "outputs": [
        {
          "data": {
            "text/plain": [
              "datetime.datetime(2021, 3, 25, 9, 10)"
            ]
          },
          "execution_count": 123,
          "metadata": {},
          "output_type": "execute_result"
        }
      ],
      "source": [
        "datetime.strptime(ejemplo,'%Y//%m//%d %H:%M ')"
      ]
    },
    {
      "cell_type": "markdown",
      "id": "uniform-woman",
      "metadata": {
        "id": "uniform-woman"
      },
      "source": [
        "**3.-** Lee el siguiente string como un datetime"
      ]
    },
    {
      "cell_type": "code",
      "execution_count": null,
      "metadata": {
        "id": "F0OCCPnEAHt-"
      },
      "outputs": [],
      "source": [
        "ejemplo = '2021-02-01 9:10 PM'"
      ],
      "id": "F0OCCPnEAHt-"
    },
    {
      "cell_type": "code",
      "execution_count": null,
      "id": "environmental-barrier",
      "metadata": {
        "id": "environmental-barrier",
        "outputId": "2993760e-90f4-494f-aad9-147a0ffa9fbc"
      },
      "outputs": [
        {
          "data": {
            "text/plain": [
              "datetime.datetime(2021, 2, 1, 21, 10)"
            ]
          },
          "execution_count": 125,
          "metadata": {},
          "output_type": "execute_result"
        }
      ],
      "source": [
        "datetime.strptime(ejemplo,'%Y-%m-%d %I:%M %p')"
      ]
    },
    {
      "cell_type": "markdown",
      "id": "fleet-guarantee",
      "metadata": {
        "id": "fleet-guarantee"
      },
      "source": [
        "## 2.4 Timedelta"
      ]
    },
    {
      "cell_type": "code",
      "execution_count": null,
      "id": "labeled-attitude",
      "metadata": {
        "id": "labeled-attitude"
      },
      "outputs": [],
      "source": [
        "from datetime import timedelta"
      ]
    },
    {
      "cell_type": "markdown",
      "id": "cardiac-dominican",
      "metadata": {
        "id": "cardiac-dominican"
      },
      "source": [
        "Los timedelta guardan una diferencia en tiempo absoluto (segundos)"
      ]
    },
    {
      "cell_type": "markdown",
      "id": "advanced-chase",
      "metadata": {
        "id": "advanced-chase"
      },
      "source": [
        "- Operaciones\n",
        "    - Sumas\n",
        "        - +\n",
        "    - Restas\n",
        "        - -\n",
        "- Métodos:\n",
        "    - **timedelta.total_seconds()**\n",
        "- Atributos\n",
        "    - **timedelta.microseconds**\n",
        "    - **timedelta.seconds**\n",
        "    - **timedelta.days**"
      ]
    },
    {
      "cell_type": "markdown",
      "id": "threaded-meeting",
      "metadata": {
        "id": "threaded-meeting"
      },
      "source": [
        "**1.-** Agrega dos mil segundos a este momento e imprime el resultado en formato iso"
      ]
    },
    {
      "cell_type": "code",
      "execution_count": null,
      "id": "collect-latex",
      "metadata": {
        "id": "collect-latex",
        "outputId": "bf7c8197-0d78-4e58-8dea-710b6dbc242b"
      },
      "outputs": [
        {
          "data": {
            "text/plain": [
              "'2021-03-20 23:34:41.207422'"
            ]
          },
          "execution_count": 135,
          "metadata": {},
          "output_type": "execute_result"
        }
      ],
      "source": [
        "resultado = datetime.now() + timedelta(seconds = 2000)\n",
        "resultado.isoformat(sep=' ')"
      ]
    },
    {
      "cell_type": "markdown",
      "id": "pregnant-syndication",
      "metadata": {
        "id": "pregnant-syndication"
      },
      "source": [
        "**2.-** Cuántos días faltan para tu cumpleaños?"
      ]
    },
    {
      "cell_type": "code",
      "execution_count": null,
      "id": "personalized-medline",
      "metadata": {
        "id": "personalized-medline",
        "outputId": "eb000374-0e44-418b-d627-004beef482ef"
      },
      "outputs": [
        {
          "data": {
            "text/plain": [
              "datetime.timedelta(days=200, seconds=3489, microseconds=285203)"
            ]
          },
          "execution_count": 137,
          "metadata": {},
          "output_type": "execute_result"
        }
      ],
      "source": [
        "datetime(2021,10,7) - datetime.now()"
      ]
    },
    {
      "cell_type": "markdown",
      "id": "proprietary-brief",
      "metadata": {
        "id": "proprietary-brief"
      },
      "source": [
        "**3.-** Cuántos segundos faltan para tu cumpleaños?"
      ]
    },
    {
      "cell_type": "code",
      "execution_count": null,
      "id": "binary-kitty",
      "metadata": {
        "id": "binary-kitty",
        "outputId": "b7447ec1-b138-4884-a935-5f1934311c9c"
      },
      "outputs": [
        {
          "data": {
            "text/plain": [
              "17283478.268337"
            ]
          },
          "execution_count": 138,
          "metadata": {},
          "output_type": "execute_result"
        }
      ],
      "source": [
        "(datetime(2021,10,7) - datetime.now()).total_seconds()"
      ]
    }
  ],
  "metadata": {
    "kernelspec": {
      "display_name": "Python 3",
      "language": "python",
      "name": "python3"
    },
    "language_info": {
      "codemirror_mode": {
        "name": "ipython",
        "version": 3
      },
      "file_extension": ".py",
      "mimetype": "text/x-python",
      "name": "python",
      "nbconvert_exporter": "python",
      "pygments_lexer": "ipython3",
      "version": "3.8.3"
    },
    "colab": {
      "provenance": [],
      "include_colab_link": true
    }
  },
  "nbformat": 4,
  "nbformat_minor": 5
}