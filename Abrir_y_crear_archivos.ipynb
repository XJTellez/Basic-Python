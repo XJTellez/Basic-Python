{
  "cells": [
    {
      "cell_type": "markdown",
      "metadata": {
        "id": "view-in-github",
        "colab_type": "text"
      },
      "source": [
        "<a href=\"https://colab.research.google.com/github/XJTellez/Basic-Python/blob/main/Abrir_y_crear_archivos.ipynb\" target=\"_parent\"><img src=\"https://colab.research.google.com/assets/colab-badge.svg\" alt=\"Open In Colab\"/></a>"
      ]
    },
    {
      "cell_type": "markdown",
      "metadata": {
        "id": "371mXkqR9lkp"
      },
      "source": [
        "# Abrir y crear archivos\n",
        "## with, open, pickle"
      ]
    },
    {
      "cell_type": "markdown",
      "metadata": {
        "id": "FIZNDir89lkx"
      },
      "source": [
        "## FAQ previo\n",
        "**¿Abrir y guardar archivos siempre es así de latoso?**\n",
        "- No. Cuando vean Pandas en el siguiente módulo esto será *mucho* más sencillo.\n",
        "\n",
        "**¿Librerías, módulos, paquetes?**\n",
        "- Módulo --> Un .py con un montón de funciones\n",
        "- Paquete --> Un montón de módulos.\n",
        "- Librería --> Montón de paquetes. Suele indicar una funcionalidad común.\n",
        "\n",
        "**¿Distribución?**\n",
        "- Una cosa es descargar el 'lenguaje' Python, otra cosa es descargar Python más todo lo que podrías necesitar para utilizar el lenguaje. Cosas como IDE's, Jupyter, paquetes etc... Una distribución es precisamente eso: Python + un montón de cosas extra que dan más utilidad al lenguaje. Anaconda es una distribución de Python enfocada a la ciencia de datos.\n",
        "\n",
        "**¿Cuántas liberías/módulos/paquetes hay en Python?**\n",
        "- Puedes consultar aquí: https://pypi.org/\n",
        "\n",
        "**¿Cuáles liberías/módulos/paquetes hay en *mi* Anaconda?**\n",
        "- Corre **'conda list'** sin comillas en tu terminal de Anaconda (spoiler alert: seguro son muchas).\n",
        "\n",
        "**¿A poco voy a estar cargando todas las librerías en cada libreta?**\n",
        "- Yeap.\n"
      ]
    },
    {
      "cell_type": "markdown",
      "metadata": {
        "id": "135CV6nd9lkz"
      },
      "source": [
        "# Antes de empezar\n",
        "- Importa math, random, statistics\n",
        "- Usa help y shift tab para explorarlos\n",
        "- Revisa la documentación de math, random, re, datetime"
      ]
    },
    {
      "cell_type": "markdown",
      "metadata": {
        "id": "3YhigVks9lk4"
      },
      "source": [
        "# 1. Crear y abrir archivos"
      ]
    },
    {
      "cell_type": "markdown",
      "metadata": {
        "id": "SFJzvoM59lk5"
      },
      "source": [
        "## 1.1 Crear un archivo de texto"
      ]
    },
    {
      "cell_type": "markdown",
      "metadata": {
        "id": "eFaWC2Xr9lk6"
      },
      "source": [
        "With, open, read, write, append, binary"
      ]
    },
    {
      "cell_type": "code",
      "execution_count": null,
      "metadata": {
        "id": "6U_QFLqg9lk7",
        "outputId": "6d5b0ceb-25ce-4d6a-8c97-c2a2c4dc2b79"
      },
      "outputs": [
        {
          "data": {
            "text/plain": [
              "11"
            ]
          },
          "execution_count": 8,
          "metadata": {},
          "output_type": "execute_result"
        }
      ],
      "source": [
        "f = open('texto.txt','w')\n",
        "f.write('Hola Mundo.')\n",
        "# f.close())"
      ]
    },
    {
      "cell_type": "code",
      "execution_count": null,
      "metadata": {
        "id": "XunAar0d9lk_"
      },
      "outputs": [],
      "source": [
        "with open('texto.txt','w') as f:\n",
        "    f.write('Hola mundo.')"
      ]
    },
    {
      "cell_type": "code",
      "execution_count": null,
      "metadata": {
        "id": "X27ZvaWd9llA"
      },
      "outputs": [],
      "source": [
        "array = ['palabra1','palabra2','palabra3']\n",
        "with open('texto.txt','w') as f:\n",
        "    for elemento in array:\n",
        "        f.write(elemento)\n",
        "        f.write(' ')\n",
        "    "
      ]
    },
    {
      "cell_type": "code",
      "execution_count": null,
      "metadata": {
        "id": "In1JdvqX9llC"
      },
      "outputs": [],
      "source": [
        "array = ['palabra1','palabra2','palabra3']\n",
        "with open('texto.txt','w') as f:\n",
        "    for elemento in array:\n",
        "        print(elemento,file=f)\n",
        "    "
      ]
    },
    {
      "cell_type": "markdown",
      "metadata": {
        "id": "nxA-kPUz9llD"
      },
      "source": [
        "## 1.2 Abrir un archivo de texto"
      ]
    },
    {
      "cell_type": "code",
      "execution_count": null,
      "metadata": {
        "id": "d6WNryUs9llF",
        "outputId": "d7387f5f-0e2e-4371-c050-d52066dfa97d"
      },
      "outputs": [
        {
          "name": "stdout",
          "output_type": "stream",
          "text": [
            "Hola Mundo.\n"
          ]
        }
      ],
      "source": [
        "file = open('texto.txt','r')\n",
        "print(file.read())\n",
        "file.close()"
      ]
    },
    {
      "cell_type": "markdown",
      "metadata": {
        "id": "T9Z0K3c49llG"
      },
      "source": [
        "## 1.3 Abrir un archivo csv"
      ]
    },
    {
      "cell_type": "code",
      "execution_count": null,
      "metadata": {
        "id": "bqO9JjFG9llH"
      },
      "outputs": [],
      "source": [
        "import csv"
      ]
    },
    {
      "cell_type": "code",
      "execution_count": null,
      "metadata": {
        "id": "yc4Xh8zw9llI"
      },
      "outputs": [],
      "source": [
        "with open('numeros_aleatrios.csv', 'r') as f:\n",
        "    lector = csv.reader(f)\n",
        "    \n",
        "    datos = []\n",
        "    for valor in lector:\n",
        "        datos.append(int(valor[0]))"
      ]
    },
    {
      "cell_type": "markdown",
      "metadata": {
        "id": "wc-kCpsq9llJ"
      },
      "source": [
        "Como lo van a hacer realmente..."
      ]
    },
    {
      "cell_type": "code",
      "execution_count": null,
      "metadata": {
        "id": "AL4WNo-y9llK"
      },
      "outputs": [],
      "source": [
        "# import pandas as pd\n",
        "# pd.read_csv('numeros_aleatrios.csv')"
      ]
    },
    {
      "cell_type": "markdown",
      "metadata": {
        "id": "sGyqsf_-9llL"
      },
      "source": [
        "## 1.4 Crear un archivo pickle"
      ]
    },
    {
      "cell_type": "code",
      "execution_count": null,
      "metadata": {
        "id": "OecT92Nk9llM"
      },
      "outputs": [],
      "source": [
        "import pickle"
      ]
    },
    {
      "cell_type": "code",
      "execution_count": null,
      "metadata": {
        "id": "bCEqJhCg9llM",
        "outputId": "fc102a6f-0ec9-474f-883c-a8c03478f56e"
      },
      "outputs": [
        {
          "data": {
            "text/plain": [
              "{'Nombres': ['Gignac', 'Fernández', 'Quiñones'],\n",
              " 'Posición': ['Delantero', 'Medio', 'Medio']}"
            ]
          },
          "execution_count": 13,
          "metadata": {},
          "output_type": "execute_result"
        }
      ],
      "source": [
        "objetoAGuardar = {'Nombres':['Gignac','Fernández','Quiñones'], 'Posición':['Delantero','Medio','Medio']}\n",
        "objetoAGuardar"
      ]
    },
    {
      "cell_type": "code",
      "execution_count": null,
      "metadata": {
        "id": "0udSqcCO9llN"
      },
      "outputs": [],
      "source": [
        "with open('unPepinillo','wb') as archivo:\n",
        "    pickle.dump(objetoAGuardar,archivo)"
      ]
    },
    {
      "cell_type": "markdown",
      "metadata": {
        "id": "fJpcaStw9llN"
      },
      "source": [
        "## 1.5 Abrir un archivo pickle"
      ]
    },
    {
      "cell_type": "code",
      "execution_count": null,
      "metadata": {
        "id": "2rVB8mPW9llO"
      },
      "outputs": [],
      "source": [
        "with open('unPepinillo','rb') as archivo:\n",
        "    archivoRecuperado = pickle.load(archivo)"
      ]
    },
    {
      "cell_type": "code",
      "execution_count": null,
      "metadata": {
        "id": "aNLMwUWo9llO",
        "outputId": "d8ad12e7-b04b-468e-db01-bc389c323a0e"
      },
      "outputs": [
        {
          "data": {
            "text/plain": [
              "{'Nombres': ['Gignac', 'Fernández', 'Quiñones'],\n",
              " 'Posición': ['Delantero', 'Medio', 'Medio']}"
            ]
          },
          "execution_count": 21,
          "metadata": {},
          "output_type": "execute_result"
        }
      ],
      "source": [
        "archivoRecuperado"
      ]
    }
  ],
  "metadata": {
    "kernelspec": {
      "display_name": "Python 3",
      "language": "python",
      "name": "python3"
    },
    "language_info": {
      "codemirror_mode": {
        "name": "ipython",
        "version": 3
      },
      "file_extension": ".py",
      "mimetype": "text/x-python",
      "name": "python",
      "nbconvert_exporter": "python",
      "pygments_lexer": "ipython3",
      "version": "3.8.3"
    },
    "colab": {
      "provenance": [],
      "include_colab_link": true
    }
  },
  "nbformat": 4,
  "nbformat_minor": 0
}