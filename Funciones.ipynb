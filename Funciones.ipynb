{
  "cells": [
    {
      "cell_type": "markdown",
      "metadata": {
        "id": "view-in-github",
        "colab_type": "text"
      },
      "source": [
        "<a href=\"https://colab.research.google.com/github/XJTellez/Basic-Python/blob/main/Funciones.ipynb\" target=\"_parent\"><img src=\"https://colab.research.google.com/assets/colab-badge.svg\" alt=\"Open In Colab\"/></a>"
      ]
    },
    {
      "cell_type": "markdown",
      "id": "south-scanning",
      "metadata": {
        "id": "south-scanning"
      },
      "source": [
        "## Def, return"
      ]
    },
    {
      "cell_type": "markdown",
      "id": "sustainable-tolerance",
      "metadata": {
        "id": "sustainable-tolerance"
      },
      "source": [
        "Hay veces donde quieres realizar un mismo procedimiento más de una vez. Para esto se crea una función (ejemplo: len, max, min, etc...)"
      ]
    },
    {
      "cell_type": "markdown",
      "id": "wireless-configuration",
      "metadata": {
        "id": "wireless-configuration"
      },
      "source": [
        "**Sintaxis básica de un def**"
      ]
    },
    {
      "cell_type": "markdown",
      "id": "banned-medicaid",
      "metadata": {
        "id": "banned-medicaid"
      },
      "source": [
        "Sin return"
      ]
    },
    {
      "cell_type": "code",
      "execution_count": null,
      "id": "bottom-commons",
      "metadata": {
        "colab": {
          "base_uri": "https://localhost:8080/"
        },
        "id": "bottom-commons",
        "outputId": "978564a9-4e4a-4c90-e287-ce901009c180"
      },
      "outputs": [
        {
          "output_type": "stream",
          "name": "stdout",
          "text": [
            "hola mundo Ximena\n"
          ]
        }
      ],
      "source": [
        "def imprimirAlgoMasMiNombre(parametros):\n",
        "    print(parametros+' Ximena')\n",
        "    \n",
        "imprimirAlgoMasMiNombre('hola mundo')"
      ]
    },
    {
      "cell_type": "markdown",
      "id": "aggregate-student",
      "metadata": {
        "id": "aggregate-student"
      },
      "source": [
        "Con return"
      ]
    },
    {
      "cell_type": "code",
      "execution_count": null,
      "id": "primary-patrol",
      "metadata": {
        "id": "primary-patrol",
        "outputId": "7e66086a-c8ba-4f76-dbec-9106fe797409"
      },
      "outputs": [
        {
          "data": {
            "text/plain": [
              "20"
            ]
          },
          "execution_count": 5,
          "metadata": {},
          "output_type": "execute_result"
        }
      ],
      "source": [
        "def elevaNumeroAPotencia(numero, potencia):\n",
        "    valorCalculado = numero**potencia\n",
        "    return valorCalculado\n",
        "x = calcularAlgo(5, 2)\n",
        "x"
      ]
    },
    {
      "cell_type": "markdown",
      "id": "authorized-optimum",
      "metadata": {
        "id": "authorized-optimum"
      },
      "source": [
        "En python vainilla hay un par de funciones que duele no tener. Creemos nuestras propias funciones para calcular el promedio y desviación estándar de una lista de números."
      ]
    },
    {
      "cell_type": "markdown",
      "id": "ethical-wells",
      "metadata": {
        "id": "ethical-wells"
      },
      "source": [
        "Fórmula de media:"
      ]
    },
    {
      "cell_type": "markdown",
      "id": "consolidated-suicide",
      "metadata": {
        "id": "consolidated-suicide"
      },
      "source": [
        "$$ \\bar{x} = \\dfrac{\\sum{x_i}}{n} $$"
      ]
    },
    {
      "cell_type": "markdown",
      "id": "requested-gauge",
      "metadata": {
        "id": "requested-gauge"
      },
      "source": [
        "Donde $x_i$ es cada valor y $n$ es el número de valores."
      ]
    },
    {
      "cell_type": "markdown",
      "id": "promotional-passport",
      "metadata": {
        "id": "promotional-passport"
      },
      "source": [
        "Fórmula de desv. est."
      ]
    },
    {
      "cell_type": "markdown",
      "id": "nervous-evolution",
      "metadata": {
        "id": "nervous-evolution"
      },
      "source": [
        "$$ \\sigma = \\sqrt{\\dfrac{\\sum{(x_i - \\bar{x})^2}}{n-1}} $$"
      ]
    },
    {
      "cell_type": "markdown",
      "id": "alpha-result",
      "metadata": {
        "id": "alpha-result"
      },
      "source": [
        "Donde $x_i$ es cada valor, $n$ es el número de valores y $\\bar{x}$ es el promedio de los valores."
      ]
    },
    {
      "cell_type": "code",
      "execution_count": null,
      "id": "dying-canada",
      "metadata": {
        "id": "dying-canada"
      },
      "outputs": [],
      "source": [
        "def calculaPromedio(lista_con_numeros):\n",
        "    '''\n",
        "    Esta función toma una lista y te regresa su promedio.\n",
        "    \n",
        "    Parametros:\n",
        "         lista_con_numeros: list\n",
        "    '''\n",
        "    # Cómo lo hace\n",
        "    suma_de_numeros = sum(lista_con_numeros)\n",
        "    total_de_numeros = len(lista_con_numeros)\n",
        "    promedio = suma_de_numeros / total_de_numeros\n",
        "    return promedio"
      ]
    },
    {
      "cell_type": "code",
      "execution_count": null,
      "id": "opposed-yukon",
      "metadata": {
        "id": "opposed-yukon"
      },
      "outputs": [],
      "source": [
        "def calculaDesvEst(lista_con_numeros):\n",
        "    \n",
        "    promedio = calculaPromedio(lista_con_numeros)\n",
        "    \n",
        "    diferencias_cuadradas = []\n",
        "    for numero in lista_con_numeros:\n",
        "        diferencias_cuadradas.append((numero-promedio)**2)\n",
        "    \n",
        "    suma_de_diferencias_cuadradas = sum(diferencias_cuadradas)\n",
        "    total_de_numeros = len(lista_con_numeros)\n",
        "    \n",
        "    varianza = suma_de_diferencias_cuadradas/(total_de_numeros-1)\n",
        "    desvest = varianza**(1/2)\n",
        "    \n",
        "    return desvest"
      ]
    },
    {
      "cell_type": "markdown",
      "id": "eligible-interference",
      "metadata": {
        "id": "eligible-interference"
      },
      "source": [
        "Ahora lee el .csv de números aleatorios y calcula su media y desviación estándar."
      ]
    },
    {
      "cell_type": "code",
      "execution_count": null,
      "id": "balanced-ratio",
      "metadata": {
        "id": "balanced-ratio"
      },
      "outputs": [],
      "source": [
        "import csv"
      ]
    },
    {
      "cell_type": "code",
      "execution_count": null,
      "id": "colonial-nothing",
      "metadata": {
        "id": "colonial-nothing"
      },
      "outputs": [],
      "source": [
        "with open('numeros_aleatrios.csv') as f:\n",
        "    lector = csv.reader(f)\n",
        "    \n",
        "    numeros = []\n",
        "    for numero in lector:\n",
        "        numeros.append(int(numero[0]))"
      ]
    },
    {
      "cell_type": "code",
      "execution_count": null,
      "id": "hungarian-emperor",
      "metadata": {
        "id": "hungarian-emperor",
        "outputId": "a3dada69-261d-4994-8107-5546a7c50447"
      },
      "outputs": [
        {
          "data": {
            "text/plain": [
              "32.39202657807309"
            ]
          },
          "execution_count": 30,
          "metadata": {},
          "output_type": "execute_result"
        }
      ],
      "source": [
        "calculaPromedio(numeros)"
      ]
    },
    {
      "cell_type": "code",
      "execution_count": null,
      "id": "demonstrated-portugal",
      "metadata": {
        "id": "demonstrated-portugal",
        "outputId": "c66ec019-551f-4829-ca3f-273da4e27f9c"
      },
      "outputs": [
        {
          "data": {
            "text/plain": [
              "7.182325729127802"
            ]
          },
          "execution_count": 31,
          "metadata": {},
          "output_type": "execute_result"
        }
      ],
      "source": [
        "calculaDesvEst(numeros)"
      ]
    }
  ],
  "metadata": {
    "kernelspec": {
      "display_name": "Python 3",
      "language": "python",
      "name": "python3"
    },
    "language_info": {
      "codemirror_mode": {
        "name": "ipython",
        "version": 3
      },
      "file_extension": ".py",
      "mimetype": "text/x-python",
      "name": "python",
      "nbconvert_exporter": "python",
      "pygments_lexer": "ipython3",
      "version": "3.8.3"
    },
    "colab": {
      "provenance": [],
      "include_colab_link": true
    }
  },
  "nbformat": 4,
  "nbformat_minor": 5
}